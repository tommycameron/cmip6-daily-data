{
 "cells": [
  {
   "cell_type": "code",
   "execution_count": 1,
   "metadata": {},
   "outputs": [],
   "source": [
    "\n",
    "# conda install -c conda-forge xesmf\n",
    "# pip install cftime\n",
    "\n",
    "import dask\n",
    "# from dask_gateway import Gateway\n",
    "\n",
    "import s3fs\n",
    "import gcsfs\n",
    "import xarray as xr\n",
    "import pandas as pd\n",
    "import numpy as np\n",
    "import xesmf as xe\n",
    "import matplotlib.pyplot as plt\n",
    "import zarr\n",
    "import cftime\n",
    "import tqdm\n",
    "import datetime\n",
    "\n",
    "xr.set_options(display_style='html')\n",
    "%matplotlib inline\n",
    "%config InlineBackend.figure_format = 'retina' \n",
    "plt.rcParams['figure.figsize'] = 12, 6\n",
    "\n",
    "import warnings\n",
    "warnings.simplefilter(action='ignore', category=FutureWarning)\n",
    "warnings.simplefilter(action='ignore', category=RuntimeWarning)"
   ]
  },
  {
   "cell_type": "code",
   "execution_count": 2,
   "metadata": {},
   "outputs": [],
   "source": [
    "### data loading function\n",
    "fs = s3fs.S3FileSystem(anon=True, default_fill_cache=False)\n",
    "gcs = gcsfs.GCSFileSystem(token='anon')"
   ]
  },
  {
   "cell_type": "code",
   "execution_count": 3,
   "metadata": {},
   "outputs": [],
   "source": [
    "s3_url = 's3://cmip6-pds/cmip6-zarr-consolidated-stores.csv'\n",
    "gg_url = 'https://storage.googleapis.com/cmip6/cmip6-zarr-consolidated-stores.csv'"
   ]
  },
  {
   "cell_type": "code",
   "execution_count": 4,
   "metadata": {},
   "outputs": [
    {
     "data": {
      "text/html": [
       "<div>\n",
       "<style scoped>\n",
       "    .dataframe tbody tr th:only-of-type {\n",
       "        vertical-align: middle;\n",
       "    }\n",
       "\n",
       "    .dataframe tbody tr th {\n",
       "        vertical-align: top;\n",
       "    }\n",
       "\n",
       "    .dataframe thead th {\n",
       "        text-align: right;\n",
       "    }\n",
       "</style>\n",
       "<table border=\"1\" class=\"dataframe\">\n",
       "  <thead>\n",
       "    <tr style=\"text-align: right;\">\n",
       "      <th></th>\n",
       "      <th>activity_id</th>\n",
       "      <th>institution_id</th>\n",
       "      <th>source_id</th>\n",
       "      <th>experiment_id</th>\n",
       "      <th>member_id</th>\n",
       "      <th>table_id</th>\n",
       "      <th>variable_id</th>\n",
       "      <th>grid_label</th>\n",
       "      <th>zstore</th>\n",
       "      <th>dcpp_init_year</th>\n",
       "      <th>version</th>\n",
       "    </tr>\n",
       "  </thead>\n",
       "  <tbody>\n",
       "    <tr>\n",
       "      <th>494017</th>\n",
       "      <td>CMIP</td>\n",
       "      <td>AS-RCEC</td>\n",
       "      <td>TaiESM1</td>\n",
       "      <td>historical</td>\n",
       "      <td>r2i1p1f1</td>\n",
       "      <td>Amon</td>\n",
       "      <td>ta</td>\n",
       "      <td>gn</td>\n",
       "      <td>gs://cmip6/CMIP6/CMIP/AS-RCEC/TaiESM1/historic...</td>\n",
       "      <td>NaN</td>\n",
       "      <td>20210416</td>\n",
       "    </tr>\n",
       "    <tr>\n",
       "      <th>494018</th>\n",
       "      <td>CMIP</td>\n",
       "      <td>AS-RCEC</td>\n",
       "      <td>TaiESM1</td>\n",
       "      <td>historical</td>\n",
       "      <td>r2i1p1f1</td>\n",
       "      <td>Amon</td>\n",
       "      <td>wap</td>\n",
       "      <td>gn</td>\n",
       "      <td>gs://cmip6/CMIP6/CMIP/AS-RCEC/TaiESM1/historic...</td>\n",
       "      <td>NaN</td>\n",
       "      <td>20210416</td>\n",
       "    </tr>\n",
       "    <tr>\n",
       "      <th>494019</th>\n",
       "      <td>CMIP</td>\n",
       "      <td>AS-RCEC</td>\n",
       "      <td>TaiESM1</td>\n",
       "      <td>historical</td>\n",
       "      <td>r2i1p1f1</td>\n",
       "      <td>Amon</td>\n",
       "      <td>hur</td>\n",
       "      <td>gn</td>\n",
       "      <td>gs://cmip6/CMIP6/CMIP/AS-RCEC/TaiESM1/historic...</td>\n",
       "      <td>NaN</td>\n",
       "      <td>20210416</td>\n",
       "    </tr>\n",
       "    <tr>\n",
       "      <th>494020</th>\n",
       "      <td>CMIP</td>\n",
       "      <td>AS-RCEC</td>\n",
       "      <td>TaiESM1</td>\n",
       "      <td>historical</td>\n",
       "      <td>r2i1p1f1</td>\n",
       "      <td>Amon</td>\n",
       "      <td>va</td>\n",
       "      <td>gn</td>\n",
       "      <td>gs://cmip6/CMIP6/CMIP/AS-RCEC/TaiESM1/historic...</td>\n",
       "      <td>NaN</td>\n",
       "      <td>20210416</td>\n",
       "    </tr>\n",
       "    <tr>\n",
       "      <th>494021</th>\n",
       "      <td>CMIP</td>\n",
       "      <td>AS-RCEC</td>\n",
       "      <td>TaiESM1</td>\n",
       "      <td>historical</td>\n",
       "      <td>r2i1p1f1</td>\n",
       "      <td>Amon</td>\n",
       "      <td>ua</td>\n",
       "      <td>gn</td>\n",
       "      <td>gs://cmip6/CMIP6/CMIP/AS-RCEC/TaiESM1/historic...</td>\n",
       "      <td>NaN</td>\n",
       "      <td>20210416</td>\n",
       "    </tr>\n",
       "  </tbody>\n",
       "</table>\n",
       "</div>"
      ],
      "text/plain": [
       "       activity_id institution_id source_id experiment_id member_id table_id  \\\n",
       "494017        CMIP        AS-RCEC   TaiESM1    historical  r2i1p1f1     Amon   \n",
       "494018        CMIP        AS-RCEC   TaiESM1    historical  r2i1p1f1     Amon   \n",
       "494019        CMIP        AS-RCEC   TaiESM1    historical  r2i1p1f1     Amon   \n",
       "494020        CMIP        AS-RCEC   TaiESM1    historical  r2i1p1f1     Amon   \n",
       "494021        CMIP        AS-RCEC   TaiESM1    historical  r2i1p1f1     Amon   \n",
       "\n",
       "       variable_id grid_label  \\\n",
       "494017          ta         gn   \n",
       "494018         wap         gn   \n",
       "494019         hur         gn   \n",
       "494020          va         gn   \n",
       "494021          ua         gn   \n",
       "\n",
       "                                                   zstore  dcpp_init_year  \\\n",
       "494017  gs://cmip6/CMIP6/CMIP/AS-RCEC/TaiESM1/historic...             NaN   \n",
       "494018  gs://cmip6/CMIP6/CMIP/AS-RCEC/TaiESM1/historic...             NaN   \n",
       "494019  gs://cmip6/CMIP6/CMIP/AS-RCEC/TaiESM1/historic...             NaN   \n",
       "494020  gs://cmip6/CMIP6/CMIP/AS-RCEC/TaiESM1/historic...             NaN   \n",
       "494021  gs://cmip6/CMIP6/CMIP/AS-RCEC/TaiESM1/historic...             NaN   \n",
       "\n",
       "         version  \n",
       "494017  20210416  \n",
       "494018  20210416  \n",
       "494019  20210416  \n",
       "494020  20210416  \n",
       "494021  20210416  "
      ]
     },
     "execution_count": 4,
     "metadata": {},
     "output_type": "execute_result"
    }
   ],
   "source": [
    "### read data index\n",
    "df = pd.read_csv(gg_url)\n",
    "df.tail(5)"
   ]
  },
  {
   "cell_type": "code",
   "execution_count": 5,
   "metadata": {},
   "outputs": [],
   "source": [
    "### find the model that has both historical and scenario records \n",
    "df_his_585 = df.query(\"variable_id == 'pr' & experiment_id == 'historical' & table_id == 'day' & member_id == 'r1i1p1f1' & activity_id=='CMIP'\")\n",
    "df_ssp_585 = df.query(\"variable_id == 'pr' & experiment_id == 'ssp585'     & table_id == 'day' & member_id == 'r1i1p1f1'\")\n",
    "df_merged_ssp_585  = pd.merge(df_his_585, df_ssp_585, on =['source_id','member_id','table_id','variable_id','grid_label'], how='inner')\n",
    "\n",
    "df_his_245 = df.query(\"variable_id == 'pr' & experiment_id == 'historical' & table_id == 'day' & member_id == 'r1i1p1f1' & activity_id=='CMIP'\")\n",
    "df_ssp_245 = df.query(\"variable_id == 'pr' & experiment_id == 'ssp245'     & table_id == 'day' & member_id == 'r1i1p1f1'\")\n",
    "df_merged_ssp_245  = pd.merge(df_his_245, df_ssp_245, on =['source_id','member_id','table_id','variable_id','grid_label'], how='inner')\n",
    "\n",
    "df_his_126 = df.query(\"variable_id == 'pr' & experiment_id == 'historical' & table_id == 'day' & member_id == 'r1i1p1f1' & activity_id=='CMIP'\")\n",
    "df_ssp_126 = df.query(\"variable_id == 'pr' & experiment_id == 'ssp126'     & table_id == 'day' & member_id == 'r1i1p1f1'\")\n",
    "df_merged_ssp_126  = pd.merge(df_his_126, df_ssp_126, on =['source_id','member_id','table_id','variable_id','grid_label'], how='inner')\n",
    "\n",
    "### get intersection\n",
    "historical_url = list(set(df_merged_ssp_245['zstore_x']).intersection(set(df_merged_ssp_126['zstore_x'])).intersection(set(df_merged_ssp_585['zstore_x'])))"
   ]
  },
  {
   "cell_type": "code",
   "execution_count": 6,
   "metadata": {},
   "outputs": [
    {
     "name": "stdout",
     "output_type": "stream",
     "text": [
      "number of models:  24\n"
     ]
    },
    {
     "data": {
      "text/plain": [
       "['gs://cmip6/CMIP6/CMIP/BCC/BCC-CSM2-MR/historical/r1i1p1f1/day/pr/gn/v20181126/',\n",
       " 'gs://cmip6/CMIP6/CMIP/CCCR-IITM/IITM-ESM/historical/r1i1p1f1/day/pr/gn/v20191226/',\n",
       " 'gs://cmip6/CMIP6/CMIP/CCCma/CanESM5/historical/r1i1p1f1/day/pr/gn/v20190429/',\n",
       " 'gs://cmip6/CMIP6/CMIP/CMCC/CMCC-CM2-SR5/historical/r1i1p1f1/day/pr/gn/v20200616/',\n",
       " 'gs://cmip6/CMIP6/CMIP/CMCC/CMCC-ESM2/historical/r1i1p1f1/day/pr/gn/v20210114/']"
      ]
     },
     "execution_count": 6,
     "metadata": {},
     "output_type": "execute_result"
    }
   ],
   "source": [
    "print('number of models: ', len(historical_url))\n",
    "historical_url.sort()\n",
    "historical_url[:5]"
   ]
  },
  {
   "cell_type": "markdown",
   "metadata": {},
   "source": [
    "### read and store historical data"
   ]
  },
  {
   "cell_type": "code",
   "execution_count": 7,
   "metadata": {},
   "outputs": [
    {
     "name": "stderr",
     "output_type": "stream",
     "text": [
      " 92%|█████████▏| 22/24 [00:37<00:03,  1.57s/it]"
     ]
    },
    {
     "name": "stdout",
     "output_type": "stream",
     "text": [
      "model 21 has 360 days in a year!!\n"
     ]
    },
    {
     "name": "stderr",
     "output_type": "stream",
     "text": [
      "100%|██████████| 24/24 [00:40<00:00,  1.71s/it]\n"
     ]
    }
   ],
   "source": [
    "# dictonary to collect data\n",
    "ds_his_dictonary = {}\n",
    "for i in tqdm.tqdm(range(len(historical_url))):\n",
    "    zstore = historical_url[i]\n",
    "\n",
    "   ### load data, use_cftime=True helps line up with the date format\n",
    "    try:\n",
    "        mapper = fs.get_mapper(zstore.replace(\"gs://cmip6\", \"s3://cmip6-pds\"))\n",
    "        ds_his = xr.open_zarr(mapper, consolidated=True, decode_times=True, use_cftime=True)\n",
    "    except KeyError:\n",
    "        mapper = gcs.get_mapper(zstore.replace(\"s3://cmip6-pds\", \"gs://cmip6\"))\n",
    "        ds_his = xr.open_zarr(mapper, consolidated=True, decode_times=True, use_cftime=True)\n",
    "\n",
    "    ### keep data within 1950-2014\n",
    "    ds_his = ds_his.sel(time = slice('1950', '2014'))\n",
    "    min_year = ds_his.time.values.min().year\n",
    "    max_year = ds_his.time.values.max().year\n",
    "    list_of_year = range(min_year, max_year + 1)\n",
    "    if min(list_of_year) != 1950:\n",
    "        print(str(i) + ': min year of the model is not 1950! It is: ', str(min(list_of_year)))\n",
    "    if max(list_of_year) != 2014:\n",
    "        print(str(i) + ': max year of the model is not 2014! It is: ', str(max(list_of_year)))\n",
    "\n",
    "    ### drop model with 360 days\n",
    "    for y in list_of_year:\n",
    "        days = len(ds_his.sel(time = str(y)).time.values)\n",
    "        if days == 360:\n",
    "            print('model ' + str(i) + ' has 360 days in a year!!')\n",
    "            break\n",
    "            \n",
    "    else:\n",
    "        ### Drop leap day\n",
    "        ds_his = ds_his.where((ds_his['time.month'] != 2) | (ds_his['time.day'] != 29), drop=True)\n",
    "        days = len(ds_his.sel(time = str(y)).time.values)\n",
    "        if days != 365:\n",
    "            print('model ' + str(i) + ' year ' + str(y) + ' does not have 365 days! It has ' + str(days) + ' days!!' )\n",
    "        ds_his_dictonary[i] = ds_his"
   ]
  },
  {
   "cell_type": "markdown",
   "metadata": {},
   "source": [
    "### Check if any model is missing lat/lon bounds"
   ]
  },
  {
   "cell_type": "code",
   "execution_count": 8,
   "metadata": {},
   "outputs": [
    {
     "name": "stderr",
     "output_type": "stream",
     "text": [
      "100%|██████████| 23/23 [00:00<00:00, 2772.73it/s]"
     ]
    },
    {
     "name": "stdout",
     "output_type": "stream",
     "text": [
      "historical model 12 does not have lat bounds!!\n",
      "historical model 12 does not have lon bounds!!\n"
     ]
    },
    {
     "name": "stderr",
     "output_type": "stream",
     "text": [
      "\n"
     ]
    }
   ],
   "source": [
    "for i in tqdm.tqdm(ds_his_dictonary.keys()):\n",
    "    try:\n",
    "        ds_his_dictonary[i].lat_bnds\n",
    "    except AttributeError:\n",
    "        print('historical model ' + str(i) + ' does not have lat bounds!!')\n",
    "    try:\n",
    "        ds_his_dictonary[i].lon_bnds\n",
    "    except AttributeError:\n",
    "        print('historical model ' + str(i) + ' does not have lon bounds!!')"
   ]
  },
  {
   "cell_type": "markdown",
   "metadata": {},
   "source": [
    "### Regrid + cftime to numpy.dateframe"
   ]
  },
  {
   "cell_type": "code",
   "execution_count": 9,
   "metadata": {},
   "outputs": [
    {
     "name": "stderr",
     "output_type": "stream",
     "text": [
      "  0%|          | 0/23 [00:00<?, ?it/s]"
     ]
    },
    {
     "name": "stdout",
     "output_type": "stream",
     "text": [
      "Create weight file: nearest_s2d_160x320_180x360.nc\n"
     ]
    },
    {
     "name": "stderr",
     "output_type": "stream",
     "text": [
      "  4%|▍         | 1/23 [00:00<00:11,  1.84it/s]"
     ]
    },
    {
     "name": "stdout",
     "output_type": "stream",
     "text": [
      "using dimensions ('lat', 'lon') from data variable pr as the horizontal dimensions for this dataset.\n",
      "Create weight file: nearest_s2d_94x192_180x360.nc\n"
     ]
    },
    {
     "name": "stderr",
     "output_type": "stream",
     "text": [
      "  9%|▊         | 2/23 [00:00<00:10,  2.10it/s]"
     ]
    },
    {
     "name": "stdout",
     "output_type": "stream",
     "text": [
      "using dimensions ('lat', 'lon') from data variable pr as the horizontal dimensions for this dataset.\n",
      "Create weight file: nearest_s2d_64x128_180x360.nc\n"
     ]
    },
    {
     "name": "stderr",
     "output_type": "stream",
     "text": [
      " 13%|█▎        | 3/23 [00:01<00:08,  2.25it/s]"
     ]
    },
    {
     "name": "stdout",
     "output_type": "stream",
     "text": [
      "using dimensions ('lat', 'lon') from data variable pr as the horizontal dimensions for this dataset.\n",
      "Create weight file: nearest_s2d_192x288_180x360.nc\n"
     ]
    },
    {
     "name": "stderr",
     "output_type": "stream",
     "text": [
      " 17%|█▋        | 4/23 [00:01<00:08,  2.22it/s]"
     ]
    },
    {
     "name": "stdout",
     "output_type": "stream",
     "text": [
      "using dimensions ('lat', 'lon') from data variable pr as the horizontal dimensions for this dataset.\n",
      "Overwrite existing file: nearest_s2d_192x288_180x360.nc \n",
      " You can set reuse_weights=True to save computing time.\n"
     ]
    },
    {
     "name": "stderr",
     "output_type": "stream",
     "text": [
      " 22%|██▏       | 5/23 [00:02<00:08,  2.21it/s]"
     ]
    },
    {
     "name": "stdout",
     "output_type": "stream",
     "text": [
      "using dimensions ('lat', 'lon') from data variable pr as the horizontal dimensions for this dataset.\n",
      "Create weight file: nearest_s2d_144x192_180x360.nc\n"
     ]
    },
    {
     "name": "stderr",
     "output_type": "stream",
     "text": [
      " 26%|██▌       | 6/23 [00:02<00:07,  2.24it/s]"
     ]
    },
    {
     "name": "stdout",
     "output_type": "stream",
     "text": [
      "using dimensions ('lat', 'lon') from data variable pr as the horizontal dimensions for this dataset.\n",
      "Create weight file: nearest_s2d_145x192_180x360.nc\n"
     ]
    },
    {
     "name": "stderr",
     "output_type": "stream",
     "text": [
      " 30%|███       | 7/23 [00:03<00:07,  2.26it/s]"
     ]
    },
    {
     "name": "stdout",
     "output_type": "stream",
     "text": [
      "using dimensions ('lat', 'lon') from data variable pr as the horizontal dimensions for this dataset.\n",
      "Overwrite existing file: nearest_s2d_160x320_180x360.nc \n",
      " You can set reuse_weights=True to save computing time.\n"
     ]
    },
    {
     "name": "stderr",
     "output_type": "stream",
     "text": [
      " 35%|███▍      | 8/23 [00:03<00:06,  2.23it/s]"
     ]
    },
    {
     "name": "stdout",
     "output_type": "stream",
     "text": [
      "using dimensions ('lat', 'lon') from data variable pr as the horizontal dimensions for this dataset.\n",
      "Create weight file: nearest_s2d_256x512_180x360.nc\n"
     ]
    },
    {
     "name": "stderr",
     "output_type": "stream",
     "text": [
      " 39%|███▉      | 9/23 [00:04<00:06,  2.08it/s]"
     ]
    },
    {
     "name": "stdout",
     "output_type": "stream",
     "text": [
      "using dimensions ('lat', 'lon') from data variable pr as the horizontal dimensions for this dataset.\n",
      "Overwrite existing file: nearest_s2d_256x512_180x360.nc \n",
      " You can set reuse_weights=True to save computing time.\n"
     ]
    },
    {
     "name": "stderr",
     "output_type": "stream",
     "text": [
      " 43%|████▎     | 10/23 [00:04<00:06,  1.99it/s]"
     ]
    },
    {
     "name": "stdout",
     "output_type": "stream",
     "text": [
      "using dimensions ('lat', 'lon') from data variable pr as the horizontal dimensions for this dataset.\n",
      "Create weight file: nearest_s2d_120x180_180x360.nc\n"
     ]
    },
    {
     "name": "stderr",
     "output_type": "stream",
     "text": [
      " 48%|████▊     | 11/23 [00:05<00:05,  2.09it/s]"
     ]
    },
    {
     "name": "stdout",
     "output_type": "stream",
     "text": [
      "using dimensions ('lat', 'lon') from data variable pr as the horizontal dimensions for this dataset.\n",
      "Overwrite existing file: nearest_s2d_120x180_180x360.nc \n",
      " You can set reuse_weights=True to save computing time.\n"
     ]
    },
    {
     "name": "stderr",
     "output_type": "stream",
     "text": [
      " 52%|█████▏    | 12/23 [00:05<00:05,  2.17it/s]"
     ]
    },
    {
     "name": "stdout",
     "output_type": "stream",
     "text": [
      "using dimensions ('lat', 'lon') from data variable pr as the horizontal dimensions for this dataset.\n",
      "Create weight file: nearest_s2d_143x144_180x360.nc\n"
     ]
    },
    {
     "name": "stderr",
     "output_type": "stream",
     "text": [
      " 57%|█████▋    | 13/23 [00:06<00:04,  2.11it/s]"
     ]
    },
    {
     "name": "stdout",
     "output_type": "stream",
     "text": [
      "using dimensions ('lat', 'lon') from data variable pr as the horizontal dimensions for this dataset.\n",
      "Create weight file: nearest_s2d_96x192_180x360.nc\n"
     ]
    },
    {
     "name": "stderr",
     "output_type": "stream",
     "text": [
      " 61%|██████    | 14/23 [00:06<00:04,  2.18it/s]"
     ]
    },
    {
     "name": "stdout",
     "output_type": "stream",
     "text": [
      "using dimensions ('lat', 'lon') from data variable pr as the horizontal dimensions for this dataset.\n",
      "Create weight file: nearest_s2d_128x256_180x360.nc\n"
     ]
    },
    {
     "name": "stderr",
     "output_type": "stream",
     "text": [
      " 65%|██████▌   | 15/23 [00:06<00:03,  2.21it/s]"
     ]
    },
    {
     "name": "stdout",
     "output_type": "stream",
     "text": [
      "using dimensions ('lat', 'lon') from data variable pr as the horizontal dimensions for this dataset.\n",
      "Create weight file: nearest_s2d_192x384_180x360.nc\n"
     ]
    },
    {
     "name": "stderr",
     "output_type": "stream",
     "text": [
      " 70%|██████▉   | 16/23 [00:07<00:03,  2.17it/s]"
     ]
    },
    {
     "name": "stdout",
     "output_type": "stream",
     "text": [
      "using dimensions ('lat', 'lon') from data variable pr as the horizontal dimensions for this dataset.\n",
      "Overwrite existing file: nearest_s2d_96x192_180x360.nc \n",
      " You can set reuse_weights=True to save computing time.\n"
     ]
    },
    {
     "name": "stderr",
     "output_type": "stream",
     "text": [
      " 74%|███████▍  | 17/23 [00:07<00:02,  2.23it/s]"
     ]
    },
    {
     "name": "stdout",
     "output_type": "stream",
     "text": [
      "using dimensions ('lat', 'lon') from data variable pr as the horizontal dimensions for this dataset.\n",
      "Overwrite existing file: nearest_s2d_160x320_180x360.nc \n",
      " You can set reuse_weights=True to save computing time.\n"
     ]
    },
    {
     "name": "stderr",
     "output_type": "stream",
     "text": [
      " 78%|███████▊  | 18/23 [00:08<00:02,  2.21it/s]"
     ]
    },
    {
     "name": "stdout",
     "output_type": "stream",
     "text": [
      "using dimensions ('lat', 'lon') from data variable pr as the horizontal dimensions for this dataset.\n",
      "Overwrite existing file: nearest_s2d_192x288_180x360.nc \n",
      " You can set reuse_weights=True to save computing time.\n"
     ]
    },
    {
     "name": "stderr",
     "output_type": "stream",
     "text": [
      " 83%|████████▎ | 19/23 [00:08<00:01,  2.19it/s]"
     ]
    },
    {
     "name": "stdout",
     "output_type": "stream",
     "text": [
      "using dimensions ('lat', 'lon') from data variable pr as the horizontal dimensions for this dataset.\n",
      "Create weight file: nearest_s2d_96x144_180x360.nc\n"
     ]
    },
    {
     "name": "stderr",
     "output_type": "stream",
     "text": [
      " 87%|████████▋ | 20/23 [00:09<00:01,  2.25it/s]"
     ]
    },
    {
     "name": "stdout",
     "output_type": "stream",
     "text": [
      "using dimensions ('lat', 'lon') from data variable pr as the horizontal dimensions for this dataset.\n",
      "Overwrite existing file: nearest_s2d_192x288_180x360.nc \n",
      " You can set reuse_weights=True to save computing time.\n"
     ]
    },
    {
     "name": "stderr",
     "output_type": "stream",
     "text": [
      " 91%|█████████▏| 21/23 [00:09<00:00,  2.22it/s]"
     ]
    },
    {
     "name": "stdout",
     "output_type": "stream",
     "text": [
      "using dimensions ('lat', 'lon') from data variable pr as the horizontal dimensions for this dataset.\n",
      "Create weight file: nearest_s2d_180x288_180x360.nc\n"
     ]
    },
    {
     "name": "stderr",
     "output_type": "stream",
     "text": [
      " 96%|█████████▌| 22/23 [00:10<00:00,  2.20it/s]"
     ]
    },
    {
     "name": "stdout",
     "output_type": "stream",
     "text": [
      "using dimensions ('lat', 'lon') from data variable pr as the horizontal dimensions for this dataset.\n",
      "Overwrite existing file: nearest_s2d_96x192_180x360.nc \n",
      " You can set reuse_weights=True to save computing time.\n"
     ]
    },
    {
     "name": "stderr",
     "output_type": "stream",
     "text": [
      "100%|██████████| 23/23 [00:10<00:00,  2.18it/s]"
     ]
    },
    {
     "name": "stdout",
     "output_type": "stream",
     "text": [
      "using dimensions ('lat', 'lon') from data variable pr as the horizontal dimensions for this dataset.\n",
      "Historical - Done!\n"
     ]
    },
    {
     "name": "stderr",
     "output_type": "stream",
     "text": [
      "\n"
     ]
    }
   ],
   "source": [
    "ds_out = xr.Dataset({'lat': (['lat'], np.arange(-89.5, 90.0, 1.0)),\n",
    "                     'lat_bnds' : (['lat', 'bnds'], np.array([[x, x + 1] for x in range(-90,90)])),\n",
    "                     'lon': (['lon'], np.arange(0.5, 360.0, 1.0)),\n",
    "                     'lon_bnds' : (['lon', 'bnds'], np.array([[x, x + 1] for x in range(0,360)])),\n",
    "                    })\n",
    "\n",
    "for i in tqdm.tqdm(ds_his_dictonary.keys()):\n",
    "    regridder = xe.Regridder(ds_his_dictonary[i], ds_out, 'nearest_s2d', reuse_weights=False)\n",
    "    ds_his_dictonary[i] = regridder(ds_his_dictonary[i]) \n",
    "    regridder._grid_in = None\n",
    "    regridder._grid_out = None\n",
    "    ds_his_dictonary[i]['time'] = ds_his_dictonary[i].indexes['time'].to_datetimeindex().normalize()\n",
    "\n",
    "print('Historical - Done!')"
   ]
  },
  {
   "cell_type": "markdown",
   "metadata": {},
   "source": [
    "### Mean & Std Calculation for historical"
   ]
  },
  {
   "cell_type": "code",
   "execution_count": 12,
   "metadata": {},
   "outputs": [
    {
     "name": "stderr",
     "output_type": "stream",
     "text": [
      "100%|██████████| 23/23 [00:00<00:00, 68.85it/s]\n"
     ]
    },
    {
     "data": {
      "text/html": [
       "<div><svg style=\"position: absolute; width: 0; height: 0; overflow: hidden\">\n",
       "<defs>\n",
       "<symbol id=\"icon-database\" viewBox=\"0 0 32 32\">\n",
       "<path d=\"M16 0c-8.837 0-16 2.239-16 5v4c0 2.761 7.163 5 16 5s16-2.239 16-5v-4c0-2.761-7.163-5-16-5z\"></path>\n",
       "<path d=\"M16 17c-8.837 0-16-2.239-16-5v6c0 2.761 7.163 5 16 5s16-2.239 16-5v-6c0 2.761-7.163 5-16 5z\"></path>\n",
       "<path d=\"M16 26c-8.837 0-16-2.239-16-5v6c0 2.761 7.163 5 16 5s16-2.239 16-5v-6c0 2.761-7.163 5-16 5z\"></path>\n",
       "</symbol>\n",
       "<symbol id=\"icon-file-text2\" viewBox=\"0 0 32 32\">\n",
       "<path d=\"M28.681 7.159c-0.694-0.947-1.662-2.053-2.724-3.116s-2.169-2.030-3.116-2.724c-1.612-1.182-2.393-1.319-2.841-1.319h-15.5c-1.378 0-2.5 1.121-2.5 2.5v27c0 1.378 1.122 2.5 2.5 2.5h23c1.378 0 2.5-1.122 2.5-2.5v-19.5c0-0.448-0.137-1.23-1.319-2.841zM24.543 5.457c0.959 0.959 1.712 1.825 2.268 2.543h-4.811v-4.811c0.718 0.556 1.584 1.309 2.543 2.268zM28 29.5c0 0.271-0.229 0.5-0.5 0.5h-23c-0.271 0-0.5-0.229-0.5-0.5v-27c0-0.271 0.229-0.5 0.5-0.5 0 0 15.499-0 15.5 0v7c0 0.552 0.448 1 1 1h7v19.5z\"></path>\n",
       "<path d=\"M23 26h-14c-0.552 0-1-0.448-1-1s0.448-1 1-1h14c0.552 0 1 0.448 1 1s-0.448 1-1 1z\"></path>\n",
       "<path d=\"M23 22h-14c-0.552 0-1-0.448-1-1s0.448-1 1-1h14c0.552 0 1 0.448 1 1s-0.448 1-1 1z\"></path>\n",
       "<path d=\"M23 18h-14c-0.552 0-1-0.448-1-1s0.448-1 1-1h14c0.552 0 1 0.448 1 1s-0.448 1-1 1z\"></path>\n",
       "</symbol>\n",
       "</defs>\n",
       "</svg>\n",
       "<style>/* CSS stylesheet for displaying xarray objects in jupyterlab.\n",
       " *\n",
       " */\n",
       "\n",
       ":root {\n",
       "  --xr-font-color0: var(--jp-content-font-color0, rgba(0, 0, 0, 1));\n",
       "  --xr-font-color2: var(--jp-content-font-color2, rgba(0, 0, 0, 0.54));\n",
       "  --xr-font-color3: var(--jp-content-font-color3, rgba(0, 0, 0, 0.38));\n",
       "  --xr-border-color: var(--jp-border-color2, #e0e0e0);\n",
       "  --xr-disabled-color: var(--jp-layout-color3, #bdbdbd);\n",
       "  --xr-background-color: var(--jp-layout-color0, white);\n",
       "  --xr-background-color-row-even: var(--jp-layout-color1, white);\n",
       "  --xr-background-color-row-odd: var(--jp-layout-color2, #eeeeee);\n",
       "}\n",
       "\n",
       "html[theme=dark],\n",
       "body.vscode-dark {\n",
       "  --xr-font-color0: rgba(255, 255, 255, 1);\n",
       "  --xr-font-color2: rgba(255, 255, 255, 0.54);\n",
       "  --xr-font-color3: rgba(255, 255, 255, 0.38);\n",
       "  --xr-border-color: #1F1F1F;\n",
       "  --xr-disabled-color: #515151;\n",
       "  --xr-background-color: #111111;\n",
       "  --xr-background-color-row-even: #111111;\n",
       "  --xr-background-color-row-odd: #313131;\n",
       "}\n",
       "\n",
       ".xr-wrap {\n",
       "  display: block;\n",
       "  min-width: 300px;\n",
       "  max-width: 700px;\n",
       "}\n",
       "\n",
       ".xr-text-repr-fallback {\n",
       "  /* fallback to plain text repr when CSS is not injected (untrusted notebook) */\n",
       "  display: none;\n",
       "}\n",
       "\n",
       ".xr-header {\n",
       "  padding-top: 6px;\n",
       "  padding-bottom: 6px;\n",
       "  margin-bottom: 4px;\n",
       "  border-bottom: solid 1px var(--xr-border-color);\n",
       "}\n",
       "\n",
       ".xr-header > div,\n",
       ".xr-header > ul {\n",
       "  display: inline;\n",
       "  margin-top: 0;\n",
       "  margin-bottom: 0;\n",
       "}\n",
       "\n",
       ".xr-obj-type,\n",
       ".xr-array-name {\n",
       "  margin-left: 2px;\n",
       "  margin-right: 10px;\n",
       "}\n",
       "\n",
       ".xr-obj-type {\n",
       "  color: var(--xr-font-color2);\n",
       "}\n",
       "\n",
       ".xr-sections {\n",
       "  padding-left: 0 !important;\n",
       "  display: grid;\n",
       "  grid-template-columns: 150px auto auto 1fr 20px 20px;\n",
       "}\n",
       "\n",
       ".xr-section-item {\n",
       "  display: contents;\n",
       "}\n",
       "\n",
       ".xr-section-item input {\n",
       "  display: none;\n",
       "}\n",
       "\n",
       ".xr-section-item input + label {\n",
       "  color: var(--xr-disabled-color);\n",
       "}\n",
       "\n",
       ".xr-section-item input:enabled + label {\n",
       "  cursor: pointer;\n",
       "  color: var(--xr-font-color2);\n",
       "}\n",
       "\n",
       ".xr-section-item input:enabled + label:hover {\n",
       "  color: var(--xr-font-color0);\n",
       "}\n",
       "\n",
       ".xr-section-summary {\n",
       "  grid-column: 1;\n",
       "  color: var(--xr-font-color2);\n",
       "  font-weight: 500;\n",
       "}\n",
       "\n",
       ".xr-section-summary > span {\n",
       "  display: inline-block;\n",
       "  padding-left: 0.5em;\n",
       "}\n",
       "\n",
       ".xr-section-summary-in:disabled + label {\n",
       "  color: var(--xr-font-color2);\n",
       "}\n",
       "\n",
       ".xr-section-summary-in + label:before {\n",
       "  display: inline-block;\n",
       "  content: '►';\n",
       "  font-size: 11px;\n",
       "  width: 15px;\n",
       "  text-align: center;\n",
       "}\n",
       "\n",
       ".xr-section-summary-in:disabled + label:before {\n",
       "  color: var(--xr-disabled-color);\n",
       "}\n",
       "\n",
       ".xr-section-summary-in:checked + label:before {\n",
       "  content: '▼';\n",
       "}\n",
       "\n",
       ".xr-section-summary-in:checked + label > span {\n",
       "  display: none;\n",
       "}\n",
       "\n",
       ".xr-section-summary,\n",
       ".xr-section-inline-details {\n",
       "  padding-top: 4px;\n",
       "  padding-bottom: 4px;\n",
       "}\n",
       "\n",
       ".xr-section-inline-details {\n",
       "  grid-column: 2 / -1;\n",
       "}\n",
       "\n",
       ".xr-section-details {\n",
       "  display: none;\n",
       "  grid-column: 1 / -1;\n",
       "  margin-bottom: 5px;\n",
       "}\n",
       "\n",
       ".xr-section-summary-in:checked ~ .xr-section-details {\n",
       "  display: contents;\n",
       "}\n",
       "\n",
       ".xr-array-wrap {\n",
       "  grid-column: 1 / -1;\n",
       "  display: grid;\n",
       "  grid-template-columns: 20px auto;\n",
       "}\n",
       "\n",
       ".xr-array-wrap > label {\n",
       "  grid-column: 1;\n",
       "  vertical-align: top;\n",
       "}\n",
       "\n",
       ".xr-preview {\n",
       "  color: var(--xr-font-color3);\n",
       "}\n",
       "\n",
       ".xr-array-preview,\n",
       ".xr-array-data {\n",
       "  padding: 0 5px !important;\n",
       "  grid-column: 2;\n",
       "}\n",
       "\n",
       ".xr-array-data,\n",
       ".xr-array-in:checked ~ .xr-array-preview {\n",
       "  display: none;\n",
       "}\n",
       "\n",
       ".xr-array-in:checked ~ .xr-array-data,\n",
       ".xr-array-preview {\n",
       "  display: inline-block;\n",
       "}\n",
       "\n",
       ".xr-dim-list {\n",
       "  display: inline-block !important;\n",
       "  list-style: none;\n",
       "  padding: 0 !important;\n",
       "  margin: 0;\n",
       "}\n",
       "\n",
       ".xr-dim-list li {\n",
       "  display: inline-block;\n",
       "  padding: 0;\n",
       "  margin: 0;\n",
       "}\n",
       "\n",
       ".xr-dim-list:before {\n",
       "  content: '(';\n",
       "}\n",
       "\n",
       ".xr-dim-list:after {\n",
       "  content: ')';\n",
       "}\n",
       "\n",
       ".xr-dim-list li:not(:last-child):after {\n",
       "  content: ',';\n",
       "  padding-right: 5px;\n",
       "}\n",
       "\n",
       ".xr-has-index {\n",
       "  font-weight: bold;\n",
       "}\n",
       "\n",
       ".xr-var-list,\n",
       ".xr-var-item {\n",
       "  display: contents;\n",
       "}\n",
       "\n",
       ".xr-var-item > div,\n",
       ".xr-var-item label,\n",
       ".xr-var-item > .xr-var-name span {\n",
       "  background-color: var(--xr-background-color-row-even);\n",
       "  margin-bottom: 0;\n",
       "}\n",
       "\n",
       ".xr-var-item > .xr-var-name:hover span {\n",
       "  padding-right: 5px;\n",
       "}\n",
       "\n",
       ".xr-var-list > li:nth-child(odd) > div,\n",
       ".xr-var-list > li:nth-child(odd) > label,\n",
       ".xr-var-list > li:nth-child(odd) > .xr-var-name span {\n",
       "  background-color: var(--xr-background-color-row-odd);\n",
       "}\n",
       "\n",
       ".xr-var-name {\n",
       "  grid-column: 1;\n",
       "}\n",
       "\n",
       ".xr-var-dims {\n",
       "  grid-column: 2;\n",
       "}\n",
       "\n",
       ".xr-var-dtype {\n",
       "  grid-column: 3;\n",
       "  text-align: right;\n",
       "  color: var(--xr-font-color2);\n",
       "}\n",
       "\n",
       ".xr-var-preview {\n",
       "  grid-column: 4;\n",
       "}\n",
       "\n",
       ".xr-var-name,\n",
       ".xr-var-dims,\n",
       ".xr-var-dtype,\n",
       ".xr-preview,\n",
       ".xr-attrs dt {\n",
       "  white-space: nowrap;\n",
       "  overflow: hidden;\n",
       "  text-overflow: ellipsis;\n",
       "  padding-right: 10px;\n",
       "}\n",
       "\n",
       ".xr-var-name:hover,\n",
       ".xr-var-dims:hover,\n",
       ".xr-var-dtype:hover,\n",
       ".xr-attrs dt:hover {\n",
       "  overflow: visible;\n",
       "  width: auto;\n",
       "  z-index: 1;\n",
       "}\n",
       "\n",
       ".xr-var-attrs,\n",
       ".xr-var-data {\n",
       "  display: none;\n",
       "  background-color: var(--xr-background-color) !important;\n",
       "  padding-bottom: 5px !important;\n",
       "}\n",
       "\n",
       ".xr-var-attrs-in:checked ~ .xr-var-attrs,\n",
       ".xr-var-data-in:checked ~ .xr-var-data {\n",
       "  display: block;\n",
       "}\n",
       "\n",
       ".xr-var-data > table {\n",
       "  float: right;\n",
       "}\n",
       "\n",
       ".xr-var-name span,\n",
       ".xr-var-data,\n",
       ".xr-attrs {\n",
       "  padding-left: 25px !important;\n",
       "}\n",
       "\n",
       ".xr-attrs,\n",
       ".xr-var-attrs,\n",
       ".xr-var-data {\n",
       "  grid-column: 1 / -1;\n",
       "}\n",
       "\n",
       "dl.xr-attrs {\n",
       "  padding: 0;\n",
       "  margin: 0;\n",
       "  display: grid;\n",
       "  grid-template-columns: 125px auto;\n",
       "}\n",
       "\n",
       ".xr-attrs dt,\n",
       ".xr-attrs dd {\n",
       "  padding: 0;\n",
       "  margin: 0;\n",
       "  float: left;\n",
       "  padding-right: 10px;\n",
       "  width: auto;\n",
       "}\n",
       "\n",
       ".xr-attrs dt {\n",
       "  font-weight: normal;\n",
       "  grid-column: 1;\n",
       "}\n",
       "\n",
       ".xr-attrs dt:hover span {\n",
       "  display: inline-block;\n",
       "  background: var(--xr-background-color);\n",
       "  padding-right: 10px;\n",
       "}\n",
       "\n",
       ".xr-attrs dd {\n",
       "  grid-column: 2;\n",
       "  white-space: pre-wrap;\n",
       "  word-break: break-all;\n",
       "}\n",
       "\n",
       ".xr-icon-database,\n",
       ".xr-icon-file-text2 {\n",
       "  display: inline-block;\n",
       "  vertical-align: middle;\n",
       "  width: 1em;\n",
       "  height: 1.5em !important;\n",
       "  stroke-width: 0;\n",
       "  stroke: currentColor;\n",
       "  fill: currentColor;\n",
       "}\n",
       "</style><pre class='xr-text-repr-fallback'>&lt;xarray.Dataset&gt;\n",
       "Dimensions:    (bnds: 2, lat: 180, lon: 360, model: 23, time: 23725)\n",
       "Coordinates:\n",
       "  * model      (model) int64 0 1 2 3 4 5 6 7 8 9 ... 14 15 16 17 18 19 20 22 23\n",
       "  * time       (time) datetime64[ns] 1950-01-01 1950-01-02 ... 2014-12-31\n",
       "    time_bnds  (time, bnds) object dask.array&lt;chunksize=(23725, 1), meta=np.ndarray&gt;\n",
       "  * lon        (lon) float64 0.5 1.5 2.5 3.5 4.5 ... 356.5 357.5 358.5 359.5\n",
       "  * lat        (lat) float64 -89.5 -88.5 -87.5 -86.5 ... 86.5 87.5 88.5 89.5\n",
       "Dimensions without coordinates: bnds\n",
       "Data variables:\n",
       "    pr         (model, time, lat, lon) float64 dask.array&lt;chunksize=(23, 46, 180, 360), meta=np.ndarray&gt;\n",
       "Attributes:\n",
       "    regrid_method:  nearest_s2d</pre><div class='xr-wrap' hidden><div class='xr-header'><div class='xr-obj-type'>xarray.Dataset</div></div><ul class='xr-sections'><li class='xr-section-item'><input id='section-b553fe16-07fe-4af1-8f1f-eb8bc8095343' class='xr-section-summary-in' type='checkbox' disabled ><label for='section-b553fe16-07fe-4af1-8f1f-eb8bc8095343' class='xr-section-summary'  title='Expand/collapse section'>Dimensions:</label><div class='xr-section-inline-details'><ul class='xr-dim-list'><li><span>bnds</span>: 2</li><li><span class='xr-has-index'>lat</span>: 180</li><li><span class='xr-has-index'>lon</span>: 360</li><li><span class='xr-has-index'>model</span>: 23</li><li><span class='xr-has-index'>time</span>: 23725</li></ul></div><div class='xr-section-details'></div></li><li class='xr-section-item'><input id='section-ecde4a28-6c74-43df-9f4f-888b4b153072' class='xr-section-summary-in' type='checkbox'  checked><label for='section-ecde4a28-6c74-43df-9f4f-888b4b153072' class='xr-section-summary' >Coordinates: <span>(5)</span></label><div class='xr-section-inline-details'></div><div class='xr-section-details'><ul class='xr-var-list'><li class='xr-var-item'><div class='xr-var-name'><span class='xr-has-index'>model</span></div><div class='xr-var-dims'>(model)</div><div class='xr-var-dtype'>int64</div><div class='xr-var-preview xr-preview'>0 1 2 3 4 5 6 ... 17 18 19 20 22 23</div><input id='attrs-02bb36cc-49b4-4b3d-81ac-a7e82aeedcfe' class='xr-var-attrs-in' type='checkbox' disabled><label for='attrs-02bb36cc-49b4-4b3d-81ac-a7e82aeedcfe' title='Show/Hide attributes'><svg class='icon xr-icon-file-text2'><use xlink:href='#icon-file-text2'></use></svg></label><input id='data-66262827-6e93-4d09-9e16-6565dcadf87d' class='xr-var-data-in' type='checkbox'><label for='data-66262827-6e93-4d09-9e16-6565dcadf87d' title='Show/Hide data repr'><svg class='icon xr-icon-database'><use xlink:href='#icon-database'></use></svg></label><div class='xr-var-attrs'><dl class='xr-attrs'></dl></div><div class='xr-var-data'><pre>array([ 0,  1,  2,  3,  4,  5,  6,  7,  8,  9, 10, 11, 12, 13, 14, 15, 16, 17,\n",
       "       18, 19, 20, 22, 23])</pre></div></li><li class='xr-var-item'><div class='xr-var-name'><span class='xr-has-index'>time</span></div><div class='xr-var-dims'>(time)</div><div class='xr-var-dtype'>datetime64[ns]</div><div class='xr-var-preview xr-preview'>1950-01-01 ... 2014-12-31</div><input id='attrs-5b13df6a-df10-4e9a-b012-894965a0e794' class='xr-var-attrs-in' type='checkbox' disabled><label for='attrs-5b13df6a-df10-4e9a-b012-894965a0e794' title='Show/Hide attributes'><svg class='icon xr-icon-file-text2'><use xlink:href='#icon-file-text2'></use></svg></label><input id='data-2f7e9efb-b5b1-499f-b570-7880817e263d' class='xr-var-data-in' type='checkbox'><label for='data-2f7e9efb-b5b1-499f-b570-7880817e263d' title='Show/Hide data repr'><svg class='icon xr-icon-database'><use xlink:href='#icon-database'></use></svg></label><div class='xr-var-attrs'><dl class='xr-attrs'></dl></div><div class='xr-var-data'><pre>array([&#x27;1950-01-01T00:00:00.000000000&#x27;, &#x27;1950-01-02T00:00:00.000000000&#x27;,\n",
       "       &#x27;1950-01-03T00:00:00.000000000&#x27;, ..., &#x27;2014-12-29T00:00:00.000000000&#x27;,\n",
       "       &#x27;2014-12-30T00:00:00.000000000&#x27;, &#x27;2014-12-31T00:00:00.000000000&#x27;],\n",
       "      dtype=&#x27;datetime64[ns]&#x27;)</pre></div></li><li class='xr-var-item'><div class='xr-var-name'><span>time_bnds</span></div><div class='xr-var-dims'>(time, bnds)</div><div class='xr-var-dtype'>object</div><div class='xr-var-preview xr-preview'>dask.array&lt;chunksize=(23725, 1), meta=np.ndarray&gt;</div><input id='attrs-a91e01a2-c18a-4797-9648-a9f2b12cb73e' class='xr-var-attrs-in' type='checkbox' disabled><label for='attrs-a91e01a2-c18a-4797-9648-a9f2b12cb73e' title='Show/Hide attributes'><svg class='icon xr-icon-file-text2'><use xlink:href='#icon-file-text2'></use></svg></label><input id='data-bf2d1581-72b2-4a58-9b43-b8f27ad0c0e5' class='xr-var-data-in' type='checkbox'><label for='data-bf2d1581-72b2-4a58-9b43-b8f27ad0c0e5' title='Show/Hide data repr'><svg class='icon xr-icon-database'><use xlink:href='#icon-database'></use></svg></label><div class='xr-var-attrs'><dl class='xr-attrs'></dl></div><div class='xr-var-data'><table>\n",
       "<tr>\n",
       "<td>\n",
       "<table>\n",
       "  <thead>\n",
       "    <tr><td> </td><th> Array </th><th> Chunk </th></tr>\n",
       "  </thead>\n",
       "  <tbody>\n",
       "    <tr><th> Bytes </th><td> 379.60 kB </td> <td> 189.80 kB </td></tr>\n",
       "    <tr><th> Shape </th><td> (23725, 2) </td> <td> (23725, 1) </td></tr>\n",
       "    <tr><th> Count </th><td> 7 Tasks </td><td> 2 Chunks </td></tr>\n",
       "    <tr><th> Type </th><td> object </td><td> numpy.ndarray </td></tr>\n",
       "  </tbody>\n",
       "</table>\n",
       "</td>\n",
       "<td>\n",
       "<svg width=\"75\" height=\"170\" style=\"stroke:rgb(0,0,0);stroke-width:1\" >\n",
       "\n",
       "  <!-- Horizontal lines -->\n",
       "  <line x1=\"0\" y1=\"0\" x2=\"25\" y2=\"0\" style=\"stroke-width:2\" />\n",
       "  <line x1=\"0\" y1=\"120\" x2=\"25\" y2=\"120\" style=\"stroke-width:2\" />\n",
       "\n",
       "  <!-- Vertical lines -->\n",
       "  <line x1=\"0\" y1=\"0\" x2=\"0\" y2=\"120\" style=\"stroke-width:2\" />\n",
       "  <line x1=\"12\" y1=\"0\" x2=\"12\" y2=\"120\" />\n",
       "  <line x1=\"25\" y1=\"0\" x2=\"25\" y2=\"120\" style=\"stroke-width:2\" />\n",
       "\n",
       "  <!-- Colored Rectangle -->\n",
       "  <polygon points=\"0.0,0.0 25.412616514582485,0.0 25.412616514582485,120.0 0.0,120.0\" style=\"fill:#ECB172A0;stroke-width:0\"/>\n",
       "\n",
       "  <!-- Text -->\n",
       "  <text x=\"12.706308\" y=\"140.000000\" font-size=\"1.0rem\" font-weight=\"100\" text-anchor=\"middle\" >2</text>\n",
       "  <text x=\"45.412617\" y=\"60.000000\" font-size=\"1.0rem\" font-weight=\"100\" text-anchor=\"middle\" transform=\"rotate(-90,45.412617,60.000000)\">23725</text>\n",
       "</svg>\n",
       "</td>\n",
       "</tr>\n",
       "</table></div></li><li class='xr-var-item'><div class='xr-var-name'><span class='xr-has-index'>lon</span></div><div class='xr-var-dims'>(lon)</div><div class='xr-var-dtype'>float64</div><div class='xr-var-preview xr-preview'>0.5 1.5 2.5 ... 357.5 358.5 359.5</div><input id='attrs-564381c0-fa1e-4419-8e3d-09923b9780ef' class='xr-var-attrs-in' type='checkbox' disabled><label for='attrs-564381c0-fa1e-4419-8e3d-09923b9780ef' title='Show/Hide attributes'><svg class='icon xr-icon-file-text2'><use xlink:href='#icon-file-text2'></use></svg></label><input id='data-69d2fd0f-62a4-4eab-b68d-9fe4a2e9f0b2' class='xr-var-data-in' type='checkbox'><label for='data-69d2fd0f-62a4-4eab-b68d-9fe4a2e9f0b2' title='Show/Hide data repr'><svg class='icon xr-icon-database'><use xlink:href='#icon-database'></use></svg></label><div class='xr-var-attrs'><dl class='xr-attrs'></dl></div><div class='xr-var-data'><pre>array([  0.5,   1.5,   2.5, ..., 357.5, 358.5, 359.5])</pre></div></li><li class='xr-var-item'><div class='xr-var-name'><span class='xr-has-index'>lat</span></div><div class='xr-var-dims'>(lat)</div><div class='xr-var-dtype'>float64</div><div class='xr-var-preview xr-preview'>-89.5 -88.5 -87.5 ... 88.5 89.5</div><input id='attrs-450d4896-5184-48b9-8af9-8cb6d7e579ff' class='xr-var-attrs-in' type='checkbox' disabled><label for='attrs-450d4896-5184-48b9-8af9-8cb6d7e579ff' title='Show/Hide attributes'><svg class='icon xr-icon-file-text2'><use xlink:href='#icon-file-text2'></use></svg></label><input id='data-5dc4a845-1731-4b92-a0db-908ec9d912bb' class='xr-var-data-in' type='checkbox'><label for='data-5dc4a845-1731-4b92-a0db-908ec9d912bb' title='Show/Hide data repr'><svg class='icon xr-icon-database'><use xlink:href='#icon-database'></use></svg></label><div class='xr-var-attrs'><dl class='xr-attrs'></dl></div><div class='xr-var-data'><pre>array([-89.5, -88.5, -87.5, -86.5, -85.5, -84.5, -83.5, -82.5, -81.5, -80.5,\n",
       "       -79.5, -78.5, -77.5, -76.5, -75.5, -74.5, -73.5, -72.5, -71.5, -70.5,\n",
       "       -69.5, -68.5, -67.5, -66.5, -65.5, -64.5, -63.5, -62.5, -61.5, -60.5,\n",
       "       -59.5, -58.5, -57.5, -56.5, -55.5, -54.5, -53.5, -52.5, -51.5, -50.5,\n",
       "       -49.5, -48.5, -47.5, -46.5, -45.5, -44.5, -43.5, -42.5, -41.5, -40.5,\n",
       "       -39.5, -38.5, -37.5, -36.5, -35.5, -34.5, -33.5, -32.5, -31.5, -30.5,\n",
       "       -29.5, -28.5, -27.5, -26.5, -25.5, -24.5, -23.5, -22.5, -21.5, -20.5,\n",
       "       -19.5, -18.5, -17.5, -16.5, -15.5, -14.5, -13.5, -12.5, -11.5, -10.5,\n",
       "        -9.5,  -8.5,  -7.5,  -6.5,  -5.5,  -4.5,  -3.5,  -2.5,  -1.5,  -0.5,\n",
       "         0.5,   1.5,   2.5,   3.5,   4.5,   5.5,   6.5,   7.5,   8.5,   9.5,\n",
       "        10.5,  11.5,  12.5,  13.5,  14.5,  15.5,  16.5,  17.5,  18.5,  19.5,\n",
       "        20.5,  21.5,  22.5,  23.5,  24.5,  25.5,  26.5,  27.5,  28.5,  29.5,\n",
       "        30.5,  31.5,  32.5,  33.5,  34.5,  35.5,  36.5,  37.5,  38.5,  39.5,\n",
       "        40.5,  41.5,  42.5,  43.5,  44.5,  45.5,  46.5,  47.5,  48.5,  49.5,\n",
       "        50.5,  51.5,  52.5,  53.5,  54.5,  55.5,  56.5,  57.5,  58.5,  59.5,\n",
       "        60.5,  61.5,  62.5,  63.5,  64.5,  65.5,  66.5,  67.5,  68.5,  69.5,\n",
       "        70.5,  71.5,  72.5,  73.5,  74.5,  75.5,  76.5,  77.5,  78.5,  79.5,\n",
       "        80.5,  81.5,  82.5,  83.5,  84.5,  85.5,  86.5,  87.5,  88.5,  89.5])</pre></div></li></ul></div></li><li class='xr-section-item'><input id='section-247408a9-5362-4e34-a7a5-2e6eb992bcb0' class='xr-section-summary-in' type='checkbox'  checked><label for='section-247408a9-5362-4e34-a7a5-2e6eb992bcb0' class='xr-section-summary' >Data variables: <span>(1)</span></label><div class='xr-section-inline-details'></div><div class='xr-section-details'><ul class='xr-var-list'><li class='xr-var-item'><div class='xr-var-name'><span>pr</span></div><div class='xr-var-dims'>(model, time, lat, lon)</div><div class='xr-var-dtype'>float64</div><div class='xr-var-preview xr-preview'>dask.array&lt;chunksize=(23, 46, 180, 360), meta=np.ndarray&gt;</div><input id='attrs-8d98615b-2480-4428-8b02-d49a6b4efb20' class='xr-var-attrs-in' type='checkbox' disabled><label for='attrs-8d98615b-2480-4428-8b02-d49a6b4efb20' title='Show/Hide attributes'><svg class='icon xr-icon-file-text2'><use xlink:href='#icon-file-text2'></use></svg></label><input id='data-9718b68c-3a30-477d-87f8-48fe65b51e71' class='xr-var-data-in' type='checkbox'><label for='data-9718b68c-3a30-477d-87f8-48fe65b51e71' title='Show/Hide data repr'><svg class='icon xr-icon-database'><use xlink:href='#icon-database'></use></svg></label><div class='xr-var-attrs'><dl class='xr-attrs'></dl></div><div class='xr-var-data'><table>\n",
       "<tr>\n",
       "<td>\n",
       "<table>\n",
       "  <thead>\n",
       "    <tr><td> </td><th> Array </th><th> Chunk </th></tr>\n",
       "  </thead>\n",
       "  <tbody>\n",
       "    <tr><th> Bytes </th><td> 282.88 GB </td> <td> 1.53 GB </td></tr>\n",
       "    <tr><th> Shape </th><td> (23, 23725, 180, 360) </td> <td> (23, 128, 180, 360) </td></tr>\n",
       "    <tr><th> Count </th><td> 55358 Tasks </td><td> 832 Chunks </td></tr>\n",
       "    <tr><th> Type </th><td> float64 </td><td> numpy.ndarray </td></tr>\n",
       "  </tbody>\n",
       "</table>\n",
       "</td>\n",
       "<td>\n",
       "<svg width=\"338\" height=\"146\" style=\"stroke:rgb(0,0,0);stroke-width:1\" >\n",
       "\n",
       "  <!-- Horizontal lines -->\n",
       "  <line x1=\"0\" y1=\"0\" x2=\"25\" y2=\"0\" style=\"stroke-width:2\" />\n",
       "  <line x1=\"0\" y1=\"25\" x2=\"25\" y2=\"25\" style=\"stroke-width:2\" />\n",
       "\n",
       "  <!-- Vertical lines -->\n",
       "  <line x1=\"0\" y1=\"0\" x2=\"0\" y2=\"25\" style=\"stroke-width:2\" />\n",
       "  <line x1=\"25\" y1=\"0\" x2=\"25\" y2=\"25\" style=\"stroke-width:2\" />\n",
       "\n",
       "  <!-- Colored Rectangle -->\n",
       "  <polygon points=\"0.0,0.0 25.412616514582485,0.0 25.412616514582485,25.412616514582485 0.0,25.412616514582485\" style=\"fill:#ECB172A0;stroke-width:0\"/>\n",
       "\n",
       "  <!-- Text -->\n",
       "  <text x=\"12.706308\" y=\"45.412617\" font-size=\"1.0rem\" font-weight=\"100\" text-anchor=\"middle\" >23</text>\n",
       "  <text x=\"45.412617\" y=\"12.706308\" font-size=\"1.0rem\" font-weight=\"100\" text-anchor=\"middle\" transform=\"rotate(0,45.412617,12.706308)\">1</text>\n",
       "\n",
       "\n",
       "  <!-- Horizontal lines -->\n",
       "  <line x1=\"95\" y1=\"0\" x2=\"165\" y2=\"70\" style=\"stroke-width:2\" />\n",
       "  <line x1=\"95\" y1=\"25\" x2=\"165\" y2=\"96\" style=\"stroke-width:2\" />\n",
       "\n",
       "  <!-- Vertical lines -->\n",
       "  <line x1=\"95\" y1=\"0\" x2=\"95\" y2=\"25\" style=\"stroke-width:2\" />\n",
       "  <line x1=\"97\" y1=\"2\" x2=\"97\" y2=\"27\" />\n",
       "  <line x1=\"99\" y1=\"4\" x2=\"99\" y2=\"29\" />\n",
       "  <line x1=\"101\" y1=\"6\" x2=\"101\" y2=\"32\" />\n",
       "  <line x1=\"104\" y1=\"9\" x2=\"104\" y2=\"34\" />\n",
       "  <line x1=\"106\" y1=\"11\" x2=\"106\" y2=\"36\" />\n",
       "  <line x1=\"108\" y1=\"13\" x2=\"108\" y2=\"38\" />\n",
       "  <line x1=\"110\" y1=\"15\" x2=\"110\" y2=\"40\" />\n",
       "  <line x1=\"112\" y1=\"17\" x2=\"112\" y2=\"43\" />\n",
       "  <line x1=\"114\" y1=\"19\" x2=\"114\" y2=\"45\" />\n",
       "  <line x1=\"116\" y1=\"21\" x2=\"116\" y2=\"47\" />\n",
       "  <line x1=\"119\" y1=\"24\" x2=\"119\" y2=\"49\" />\n",
       "  <line x1=\"121\" y1=\"26\" x2=\"121\" y2=\"51\" />\n",
       "  <line x1=\"123\" y1=\"28\" x2=\"123\" y2=\"53\" />\n",
       "  <line x1=\"125\" y1=\"30\" x2=\"125\" y2=\"56\" />\n",
       "  <line x1=\"127\" y1=\"32\" x2=\"127\" y2=\"58\" />\n",
       "  <line x1=\"130\" y1=\"35\" x2=\"130\" y2=\"60\" />\n",
       "  <line x1=\"132\" y1=\"37\" x2=\"132\" y2=\"62\" />\n",
       "  <line x1=\"134\" y1=\"39\" x2=\"134\" y2=\"65\" />\n",
       "  <line x1=\"136\" y1=\"41\" x2=\"136\" y2=\"67\" />\n",
       "  <line x1=\"139\" y1=\"44\" x2=\"139\" y2=\"69\" />\n",
       "  <line x1=\"141\" y1=\"46\" x2=\"141\" y2=\"71\" />\n",
       "  <line x1=\"143\" y1=\"48\" x2=\"143\" y2=\"73\" />\n",
       "  <line x1=\"145\" y1=\"50\" x2=\"145\" y2=\"76\" />\n",
       "  <line x1=\"147\" y1=\"52\" x2=\"147\" y2=\"78\" />\n",
       "  <line x1=\"150\" y1=\"55\" x2=\"150\" y2=\"80\" />\n",
       "  <line x1=\"152\" y1=\"57\" x2=\"152\" y2=\"82\" />\n",
       "  <line x1=\"154\" y1=\"59\" x2=\"154\" y2=\"84\" />\n",
       "  <line x1=\"156\" y1=\"61\" x2=\"156\" y2=\"87\" />\n",
       "  <line x1=\"159\" y1=\"64\" x2=\"159\" y2=\"89\" />\n",
       "  <line x1=\"161\" y1=\"66\" x2=\"161\" y2=\"91\" />\n",
       "  <line x1=\"163\" y1=\"68\" x2=\"163\" y2=\"93\" />\n",
       "  <line x1=\"165\" y1=\"70\" x2=\"165\" y2=\"96\" style=\"stroke-width:2\" />\n",
       "\n",
       "  <!-- Colored Rectangle -->\n",
       "  <polygon points=\"95.0,0.0 165.58823529411765,70.58823529411765 165.58823529411765,96.00085180870013 95.0,25.41261651458249\" style=\"fill:#8B4903A0;stroke-width:0\"/>\n",
       "\n",
       "  <!-- Horizontal lines -->\n",
       "  <line x1=\"95\" y1=\"0\" x2=\"122\" y2=\"0\" style=\"stroke-width:2\" />\n",
       "  <line x1=\"97\" y1=\"2\" x2=\"124\" y2=\"2\" />\n",
       "  <line x1=\"99\" y1=\"4\" x2=\"126\" y2=\"4\" />\n",
       "  <line x1=\"101\" y1=\"6\" x2=\"129\" y2=\"6\" />\n",
       "  <line x1=\"104\" y1=\"9\" x2=\"131\" y2=\"9\" />\n",
       "  <line x1=\"106\" y1=\"11\" x2=\"133\" y2=\"11\" />\n",
       "  <line x1=\"108\" y1=\"13\" x2=\"135\" y2=\"13\" />\n",
       "  <line x1=\"110\" y1=\"15\" x2=\"137\" y2=\"15\" />\n",
       "  <line x1=\"112\" y1=\"17\" x2=\"140\" y2=\"17\" />\n",
       "  <line x1=\"114\" y1=\"19\" x2=\"142\" y2=\"19\" />\n",
       "  <line x1=\"116\" y1=\"21\" x2=\"144\" y2=\"21\" />\n",
       "  <line x1=\"119\" y1=\"24\" x2=\"146\" y2=\"24\" />\n",
       "  <line x1=\"121\" y1=\"26\" x2=\"148\" y2=\"26\" />\n",
       "  <line x1=\"123\" y1=\"28\" x2=\"150\" y2=\"28\" />\n",
       "  <line x1=\"125\" y1=\"30\" x2=\"153\" y2=\"30\" />\n",
       "  <line x1=\"127\" y1=\"32\" x2=\"155\" y2=\"32\" />\n",
       "  <line x1=\"130\" y1=\"35\" x2=\"157\" y2=\"35\" />\n",
       "  <line x1=\"132\" y1=\"37\" x2=\"160\" y2=\"37\" />\n",
       "  <line x1=\"134\" y1=\"39\" x2=\"162\" y2=\"39\" />\n",
       "  <line x1=\"136\" y1=\"41\" x2=\"164\" y2=\"41\" />\n",
       "  <line x1=\"139\" y1=\"44\" x2=\"166\" y2=\"44\" />\n",
       "  <line x1=\"141\" y1=\"46\" x2=\"169\" y2=\"46\" />\n",
       "  <line x1=\"143\" y1=\"48\" x2=\"171\" y2=\"48\" />\n",
       "  <line x1=\"145\" y1=\"50\" x2=\"173\" y2=\"50\" />\n",
       "  <line x1=\"147\" y1=\"52\" x2=\"175\" y2=\"52\" />\n",
       "  <line x1=\"150\" y1=\"55\" x2=\"177\" y2=\"55\" />\n",
       "  <line x1=\"152\" y1=\"57\" x2=\"179\" y2=\"57\" />\n",
       "  <line x1=\"154\" y1=\"59\" x2=\"182\" y2=\"59\" />\n",
       "  <line x1=\"156\" y1=\"61\" x2=\"184\" y2=\"61\" />\n",
       "  <line x1=\"159\" y1=\"64\" x2=\"186\" y2=\"64\" />\n",
       "  <line x1=\"161\" y1=\"66\" x2=\"188\" y2=\"66\" />\n",
       "  <line x1=\"163\" y1=\"68\" x2=\"190\" y2=\"68\" />\n",
       "  <line x1=\"165\" y1=\"70\" x2=\"193\" y2=\"70\" style=\"stroke-width:2\" />\n",
       "\n",
       "  <!-- Vertical lines -->\n",
       "  <line x1=\"95\" y1=\"0\" x2=\"165\" y2=\"70\" style=\"stroke-width:2\" />\n",
       "  <line x1=\"122\" y1=\"0\" x2=\"193\" y2=\"70\" style=\"stroke-width:2\" />\n",
       "\n",
       "  <!-- Colored Rectangle -->\n",
       "  <polygon points=\"95.0,0.0 122.51925553095364,0.0 193.1074908250713,70.58823529411765 165.58823529411765,70.58823529411765\" style=\"fill:#8B4903A0;stroke-width:0\"/>\n",
       "\n",
       "  <!-- Horizontal lines -->\n",
       "  <line x1=\"165\" y1=\"70\" x2=\"193\" y2=\"70\" style=\"stroke-width:2\" />\n",
       "  <line x1=\"165\" y1=\"96\" x2=\"193\" y2=\"96\" style=\"stroke-width:2\" />\n",
       "\n",
       "  <!-- Vertical lines -->\n",
       "  <line x1=\"165\" y1=\"70\" x2=\"165\" y2=\"96\" style=\"stroke-width:2\" />\n",
       "  <line x1=\"193\" y1=\"70\" x2=\"193\" y2=\"96\" style=\"stroke-width:2\" />\n",
       "\n",
       "  <!-- Colored Rectangle -->\n",
       "  <polygon points=\"165.58823529411765,70.58823529411765 193.1074908250713,70.58823529411765 193.1074908250713,96.00085180870013 165.58823529411765,96.00085180870013\" style=\"fill:#ECB172A0;stroke-width:0\"/>\n",
       "\n",
       "  <!-- Text -->\n",
       "  <text x=\"179.347863\" y=\"116.000852\" font-size=\"1.0rem\" font-weight=\"100\" text-anchor=\"middle\" >360</text>\n",
       "  <text x=\"213.107491\" y=\"83.294544\" font-size=\"1.0rem\" font-weight=\"100\" text-anchor=\"middle\" transform=\"rotate(-90,213.107491,83.294544)\">180</text>\n",
       "  <text x=\"120.294118\" y=\"80.706734\" font-size=\"1.0rem\" font-weight=\"100\" text-anchor=\"middle\" transform=\"rotate(45,120.294118,80.706734)\">23725</text>\n",
       "</svg>\n",
       "</td>\n",
       "</tr>\n",
       "</table></div></li></ul></div></li><li class='xr-section-item'><input id='section-64fba295-c538-4dff-b886-7882a8a54ffd' class='xr-section-summary-in' type='checkbox'  checked><label for='section-64fba295-c538-4dff-b886-7882a8a54ffd' class='xr-section-summary' >Attributes: <span>(1)</span></label><div class='xr-section-inline-details'></div><div class='xr-section-details'><dl class='xr-attrs'><dt><span>regrid_method :</span></dt><dd>nearest_s2d</dd></dl></div></li></ul></div></div>"
      ],
      "text/plain": [
       "<xarray.Dataset>\n",
       "Dimensions:    (bnds: 2, lat: 180, lon: 360, model: 23, time: 23725)\n",
       "Coordinates:\n",
       "  * model      (model) int64 0 1 2 3 4 5 6 7 8 9 ... 14 15 16 17 18 19 20 22 23\n",
       "  * time       (time) datetime64[ns] 1950-01-01 1950-01-02 ... 2014-12-31\n",
       "    time_bnds  (time, bnds) object dask.array<chunksize=(23725, 1), meta=np.ndarray>\n",
       "  * lon        (lon) float64 0.5 1.5 2.5 3.5 4.5 ... 356.5 357.5 358.5 359.5\n",
       "  * lat        (lat) float64 -89.5 -88.5 -87.5 -86.5 ... 86.5 87.5 88.5 89.5\n",
       "Dimensions without coordinates: bnds\n",
       "Data variables:\n",
       "    pr         (model, time, lat, lon) float64 dask.array<chunksize=(23, 46, 180, 360), meta=np.ndarray>\n",
       "Attributes:\n",
       "    regrid_method:  nearest_s2d"
      ]
     },
     "execution_count": 12,
     "metadata": {},
     "output_type": "execute_result"
    }
   ],
   "source": [
    "# create new dimension \"model\"\n",
    "ds_his_temp = ds_his_dictonary[0].expand_dims({'model':list(ds_his_dictonary.keys())})\n",
    "for i in tqdm.tqdm(ds_his_dictonary.keys()):\n",
    "    ds_his_temp['pr'] = xr.where(ds_his_temp.model == i, ds_his_dictonary[i].pr, ds_his_temp.pr)\n",
    "ds_his_temp"
   ]
  },
  {
   "cell_type": "code",
   "execution_count": 1,
   "metadata": {},
   "outputs": [
    {
     "ename": "NameError",
     "evalue": "name 'ds_his_temp' is not defined",
     "output_type": "error",
     "traceback": [
      "\u001b[0;31m---------------------------------------------------------------------------\u001b[0m",
      "\u001b[0;31mNameError\u001b[0m                                 Traceback (most recent call last)",
      "\u001b[0;32m<ipython-input-1-92d7f9323000>\u001b[0m in \u001b[0;36m<module>\u001b[0;34m()\u001b[0m\n\u001b[0;32m----> 1\u001b[0;31m \u001b[0mds_his_output\u001b[0m \u001b[0;34m=\u001b[0m \u001b[0mds_his_temp\u001b[0m\u001b[0;34m.\u001b[0m\u001b[0mmean\u001b[0m\u001b[0;34m(\u001b[0m\u001b[0;34m'model'\u001b[0m\u001b[0;34m)\u001b[0m\u001b[0;34m.\u001b[0m\u001b[0mrename_vars\u001b[0m\u001b[0;34m(\u001b[0m\u001b[0;34m{\u001b[0m\u001b[0;34m'pr'\u001b[0m\u001b[0;34m:\u001b[0m\u001b[0;34m'pr_mean'\u001b[0m\u001b[0;34m}\u001b[0m\u001b[0;34m)\u001b[0m\u001b[0;34m\u001b[0m\u001b[0;34m\u001b[0m\u001b[0m\n\u001b[0m\u001b[1;32m      2\u001b[0m \u001b[0mds_his_output\u001b[0m\u001b[0;34m[\u001b[0m\u001b[0;34m'std'\u001b[0m\u001b[0;34m]\u001b[0m \u001b[0;34m=\u001b[0m \u001b[0mds_his_temp\u001b[0m\u001b[0;34m.\u001b[0m\u001b[0mstd\u001b[0m\u001b[0;34m(\u001b[0m\u001b[0;34m'model'\u001b[0m\u001b[0;34m)\u001b[0m\u001b[0;34m.\u001b[0m\u001b[0mpr\u001b[0m\u001b[0;34m\u001b[0m\u001b[0;34m\u001b[0m\u001b[0m\n\u001b[1;32m      3\u001b[0m \u001b[0mds_his_output\u001b[0m\u001b[0;34m\u001b[0m\u001b[0;34m\u001b[0m\u001b[0m\n",
      "\u001b[0;31mNameError\u001b[0m: name 'ds_his_temp' is not defined"
     ]
    }
   ],
   "source": [
    "ds_his_output = ds_his_temp.mean('model').rename_vars({'pr':'pr_mean'})\n",
    "ds_his_output['std'] = ds_his_temp.std('model').pr\n",
    "ds_his_output"
   ]
  },
  {
   "cell_type": "code",
   "execution_count": 1,
   "metadata": {},
   "outputs": [
    {
     "ename": "NameError",
     "evalue": "name 'ds_his_output' is not defined",
     "output_type": "error",
     "traceback": [
      "\u001b[0;31m---------------------------------------------------------------------------\u001b[0m",
      "\u001b[0;31mNameError\u001b[0m                                 Traceback (most recent call last)",
      "\u001b[0;32m<ipython-input-1-814468267d24>\u001b[0m in \u001b[0;36m<module>\u001b[0;34m()\u001b[0m\n\u001b[0;32m----> 1\u001b[0;31m \u001b[0mds_his_output\u001b[0m\u001b[0;34m.\u001b[0m\u001b[0mto_netcdf\u001b[0m\u001b[0;34m(\u001b[0m\u001b[0;34m'historical_daily_pr.nc'\u001b[0m\u001b[0;34m)\u001b[0m\u001b[0;34m\u001b[0m\u001b[0;34m\u001b[0m\u001b[0m\n\u001b[0m",
      "\u001b[0;31mNameError\u001b[0m: name 'ds_his_output' is not defined"
     ]
    }
   ],
   "source": [
    "ds_his_output.to_netcdf('historical_daily_pr.nc')"
   ]
  },
  {
   "cell_type": "code",
   "execution_count": 1,
   "metadata": {},
   "outputs": [
    {
     "name": "stdout",
     "output_type": "stream",
     "text": [
      "upload: ./historical_daily.nc to s3://aer-astd-mcclim/historical/historical_daily.nc\n"
     ]
    }
   ],
   "source": [
    "#!aws s3 cp historical_daily.nc s3://aer-astd-mcclim/historical/historical_daily.nc"
   ]
  },
  {
   "cell_type": "markdown",
   "metadata": {},
   "source": [
    "### Historical Monthly"
   ]
  },
  {
   "cell_type": "code",
   "execution_count": 13,
   "metadata": {
    "scrolled": true
   },
   "outputs": [
    {
     "data": {
      "text/html": [
       "<div><svg style=\"position: absolute; width: 0; height: 0; overflow: hidden\">\n",
       "<defs>\n",
       "<symbol id=\"icon-database\" viewBox=\"0 0 32 32\">\n",
       "<path d=\"M16 0c-8.837 0-16 2.239-16 5v4c0 2.761 7.163 5 16 5s16-2.239 16-5v-4c0-2.761-7.163-5-16-5z\"></path>\n",
       "<path d=\"M16 17c-8.837 0-16-2.239-16-5v6c0 2.761 7.163 5 16 5s16-2.239 16-5v-6c0 2.761-7.163 5-16 5z\"></path>\n",
       "<path d=\"M16 26c-8.837 0-16-2.239-16-5v6c0 2.761 7.163 5 16 5s16-2.239 16-5v-6c0 2.761-7.163 5-16 5z\"></path>\n",
       "</symbol>\n",
       "<symbol id=\"icon-file-text2\" viewBox=\"0 0 32 32\">\n",
       "<path d=\"M28.681 7.159c-0.694-0.947-1.662-2.053-2.724-3.116s-2.169-2.030-3.116-2.724c-1.612-1.182-2.393-1.319-2.841-1.319h-15.5c-1.378 0-2.5 1.121-2.5 2.5v27c0 1.378 1.122 2.5 2.5 2.5h23c1.378 0 2.5-1.122 2.5-2.5v-19.5c0-0.448-0.137-1.23-1.319-2.841zM24.543 5.457c0.959 0.959 1.712 1.825 2.268 2.543h-4.811v-4.811c0.718 0.556 1.584 1.309 2.543 2.268zM28 29.5c0 0.271-0.229 0.5-0.5 0.5h-23c-0.271 0-0.5-0.229-0.5-0.5v-27c0-0.271 0.229-0.5 0.5-0.5 0 0 15.499-0 15.5 0v7c0 0.552 0.448 1 1 1h7v19.5z\"></path>\n",
       "<path d=\"M23 26h-14c-0.552 0-1-0.448-1-1s0.448-1 1-1h14c0.552 0 1 0.448 1 1s-0.448 1-1 1z\"></path>\n",
       "<path d=\"M23 22h-14c-0.552 0-1-0.448-1-1s0.448-1 1-1h14c0.552 0 1 0.448 1 1s-0.448 1-1 1z\"></path>\n",
       "<path d=\"M23 18h-14c-0.552 0-1-0.448-1-1s0.448-1 1-1h14c0.552 0 1 0.448 1 1s-0.448 1-1 1z\"></path>\n",
       "</symbol>\n",
       "</defs>\n",
       "</svg>\n",
       "<style>/* CSS stylesheet for displaying xarray objects in jupyterlab.\n",
       " *\n",
       " */\n",
       "\n",
       ":root {\n",
       "  --xr-font-color0: var(--jp-content-font-color0, rgba(0, 0, 0, 1));\n",
       "  --xr-font-color2: var(--jp-content-font-color2, rgba(0, 0, 0, 0.54));\n",
       "  --xr-font-color3: var(--jp-content-font-color3, rgba(0, 0, 0, 0.38));\n",
       "  --xr-border-color: var(--jp-border-color2, #e0e0e0);\n",
       "  --xr-disabled-color: var(--jp-layout-color3, #bdbdbd);\n",
       "  --xr-background-color: var(--jp-layout-color0, white);\n",
       "  --xr-background-color-row-even: var(--jp-layout-color1, white);\n",
       "  --xr-background-color-row-odd: var(--jp-layout-color2, #eeeeee);\n",
       "}\n",
       "\n",
       "html[theme=dark],\n",
       "body.vscode-dark {\n",
       "  --xr-font-color0: rgba(255, 255, 255, 1);\n",
       "  --xr-font-color2: rgba(255, 255, 255, 0.54);\n",
       "  --xr-font-color3: rgba(255, 255, 255, 0.38);\n",
       "  --xr-border-color: #1F1F1F;\n",
       "  --xr-disabled-color: #515151;\n",
       "  --xr-background-color: #111111;\n",
       "  --xr-background-color-row-even: #111111;\n",
       "  --xr-background-color-row-odd: #313131;\n",
       "}\n",
       "\n",
       ".xr-wrap {\n",
       "  display: block;\n",
       "  min-width: 300px;\n",
       "  max-width: 700px;\n",
       "}\n",
       "\n",
       ".xr-text-repr-fallback {\n",
       "  /* fallback to plain text repr when CSS is not injected (untrusted notebook) */\n",
       "  display: none;\n",
       "}\n",
       "\n",
       ".xr-header {\n",
       "  padding-top: 6px;\n",
       "  padding-bottom: 6px;\n",
       "  margin-bottom: 4px;\n",
       "  border-bottom: solid 1px var(--xr-border-color);\n",
       "}\n",
       "\n",
       ".xr-header > div,\n",
       ".xr-header > ul {\n",
       "  display: inline;\n",
       "  margin-top: 0;\n",
       "  margin-bottom: 0;\n",
       "}\n",
       "\n",
       ".xr-obj-type,\n",
       ".xr-array-name {\n",
       "  margin-left: 2px;\n",
       "  margin-right: 10px;\n",
       "}\n",
       "\n",
       ".xr-obj-type {\n",
       "  color: var(--xr-font-color2);\n",
       "}\n",
       "\n",
       ".xr-sections {\n",
       "  padding-left: 0 !important;\n",
       "  display: grid;\n",
       "  grid-template-columns: 150px auto auto 1fr 20px 20px;\n",
       "}\n",
       "\n",
       ".xr-section-item {\n",
       "  display: contents;\n",
       "}\n",
       "\n",
       ".xr-section-item input {\n",
       "  display: none;\n",
       "}\n",
       "\n",
       ".xr-section-item input + label {\n",
       "  color: var(--xr-disabled-color);\n",
       "}\n",
       "\n",
       ".xr-section-item input:enabled + label {\n",
       "  cursor: pointer;\n",
       "  color: var(--xr-font-color2);\n",
       "}\n",
       "\n",
       ".xr-section-item input:enabled + label:hover {\n",
       "  color: var(--xr-font-color0);\n",
       "}\n",
       "\n",
       ".xr-section-summary {\n",
       "  grid-column: 1;\n",
       "  color: var(--xr-font-color2);\n",
       "  font-weight: 500;\n",
       "}\n",
       "\n",
       ".xr-section-summary > span {\n",
       "  display: inline-block;\n",
       "  padding-left: 0.5em;\n",
       "}\n",
       "\n",
       ".xr-section-summary-in:disabled + label {\n",
       "  color: var(--xr-font-color2);\n",
       "}\n",
       "\n",
       ".xr-section-summary-in + label:before {\n",
       "  display: inline-block;\n",
       "  content: '►';\n",
       "  font-size: 11px;\n",
       "  width: 15px;\n",
       "  text-align: center;\n",
       "}\n",
       "\n",
       ".xr-section-summary-in:disabled + label:before {\n",
       "  color: var(--xr-disabled-color);\n",
       "}\n",
       "\n",
       ".xr-section-summary-in:checked + label:before {\n",
       "  content: '▼';\n",
       "}\n",
       "\n",
       ".xr-section-summary-in:checked + label > span {\n",
       "  display: none;\n",
       "}\n",
       "\n",
       ".xr-section-summary,\n",
       ".xr-section-inline-details {\n",
       "  padding-top: 4px;\n",
       "  padding-bottom: 4px;\n",
       "}\n",
       "\n",
       ".xr-section-inline-details {\n",
       "  grid-column: 2 / -1;\n",
       "}\n",
       "\n",
       ".xr-section-details {\n",
       "  display: none;\n",
       "  grid-column: 1 / -1;\n",
       "  margin-bottom: 5px;\n",
       "}\n",
       "\n",
       ".xr-section-summary-in:checked ~ .xr-section-details {\n",
       "  display: contents;\n",
       "}\n",
       "\n",
       ".xr-array-wrap {\n",
       "  grid-column: 1 / -1;\n",
       "  display: grid;\n",
       "  grid-template-columns: 20px auto;\n",
       "}\n",
       "\n",
       ".xr-array-wrap > label {\n",
       "  grid-column: 1;\n",
       "  vertical-align: top;\n",
       "}\n",
       "\n",
       ".xr-preview {\n",
       "  color: var(--xr-font-color3);\n",
       "}\n",
       "\n",
       ".xr-array-preview,\n",
       ".xr-array-data {\n",
       "  padding: 0 5px !important;\n",
       "  grid-column: 2;\n",
       "}\n",
       "\n",
       ".xr-array-data,\n",
       ".xr-array-in:checked ~ .xr-array-preview {\n",
       "  display: none;\n",
       "}\n",
       "\n",
       ".xr-array-in:checked ~ .xr-array-data,\n",
       ".xr-array-preview {\n",
       "  display: inline-block;\n",
       "}\n",
       "\n",
       ".xr-dim-list {\n",
       "  display: inline-block !important;\n",
       "  list-style: none;\n",
       "  padding: 0 !important;\n",
       "  margin: 0;\n",
       "}\n",
       "\n",
       ".xr-dim-list li {\n",
       "  display: inline-block;\n",
       "  padding: 0;\n",
       "  margin: 0;\n",
       "}\n",
       "\n",
       ".xr-dim-list:before {\n",
       "  content: '(';\n",
       "}\n",
       "\n",
       ".xr-dim-list:after {\n",
       "  content: ')';\n",
       "}\n",
       "\n",
       ".xr-dim-list li:not(:last-child):after {\n",
       "  content: ',';\n",
       "  padding-right: 5px;\n",
       "}\n",
       "\n",
       ".xr-has-index {\n",
       "  font-weight: bold;\n",
       "}\n",
       "\n",
       ".xr-var-list,\n",
       ".xr-var-item {\n",
       "  display: contents;\n",
       "}\n",
       "\n",
       ".xr-var-item > div,\n",
       ".xr-var-item label,\n",
       ".xr-var-item > .xr-var-name span {\n",
       "  background-color: var(--xr-background-color-row-even);\n",
       "  margin-bottom: 0;\n",
       "}\n",
       "\n",
       ".xr-var-item > .xr-var-name:hover span {\n",
       "  padding-right: 5px;\n",
       "}\n",
       "\n",
       ".xr-var-list > li:nth-child(odd) > div,\n",
       ".xr-var-list > li:nth-child(odd) > label,\n",
       ".xr-var-list > li:nth-child(odd) > .xr-var-name span {\n",
       "  background-color: var(--xr-background-color-row-odd);\n",
       "}\n",
       "\n",
       ".xr-var-name {\n",
       "  grid-column: 1;\n",
       "}\n",
       "\n",
       ".xr-var-dims {\n",
       "  grid-column: 2;\n",
       "}\n",
       "\n",
       ".xr-var-dtype {\n",
       "  grid-column: 3;\n",
       "  text-align: right;\n",
       "  color: var(--xr-font-color2);\n",
       "}\n",
       "\n",
       ".xr-var-preview {\n",
       "  grid-column: 4;\n",
       "}\n",
       "\n",
       ".xr-var-name,\n",
       ".xr-var-dims,\n",
       ".xr-var-dtype,\n",
       ".xr-preview,\n",
       ".xr-attrs dt {\n",
       "  white-space: nowrap;\n",
       "  overflow: hidden;\n",
       "  text-overflow: ellipsis;\n",
       "  padding-right: 10px;\n",
       "}\n",
       "\n",
       ".xr-var-name:hover,\n",
       ".xr-var-dims:hover,\n",
       ".xr-var-dtype:hover,\n",
       ".xr-attrs dt:hover {\n",
       "  overflow: visible;\n",
       "  width: auto;\n",
       "  z-index: 1;\n",
       "}\n",
       "\n",
       ".xr-var-attrs,\n",
       ".xr-var-data {\n",
       "  display: none;\n",
       "  background-color: var(--xr-background-color) !important;\n",
       "  padding-bottom: 5px !important;\n",
       "}\n",
       "\n",
       ".xr-var-attrs-in:checked ~ .xr-var-attrs,\n",
       ".xr-var-data-in:checked ~ .xr-var-data {\n",
       "  display: block;\n",
       "}\n",
       "\n",
       ".xr-var-data > table {\n",
       "  float: right;\n",
       "}\n",
       "\n",
       ".xr-var-name span,\n",
       ".xr-var-data,\n",
       ".xr-attrs {\n",
       "  padding-left: 25px !important;\n",
       "}\n",
       "\n",
       ".xr-attrs,\n",
       ".xr-var-attrs,\n",
       ".xr-var-data {\n",
       "  grid-column: 1 / -1;\n",
       "}\n",
       "\n",
       "dl.xr-attrs {\n",
       "  padding: 0;\n",
       "  margin: 0;\n",
       "  display: grid;\n",
       "  grid-template-columns: 125px auto;\n",
       "}\n",
       "\n",
       ".xr-attrs dt,\n",
       ".xr-attrs dd {\n",
       "  padding: 0;\n",
       "  margin: 0;\n",
       "  float: left;\n",
       "  padding-right: 10px;\n",
       "  width: auto;\n",
       "}\n",
       "\n",
       ".xr-attrs dt {\n",
       "  font-weight: normal;\n",
       "  grid-column: 1;\n",
       "}\n",
       "\n",
       ".xr-attrs dt:hover span {\n",
       "  display: inline-block;\n",
       "  background: var(--xr-background-color);\n",
       "  padding-right: 10px;\n",
       "}\n",
       "\n",
       ".xr-attrs dd {\n",
       "  grid-column: 2;\n",
       "  white-space: pre-wrap;\n",
       "  word-break: break-all;\n",
       "}\n",
       "\n",
       ".xr-icon-database,\n",
       ".xr-icon-file-text2 {\n",
       "  display: inline-block;\n",
       "  vertical-align: middle;\n",
       "  width: 1em;\n",
       "  height: 1.5em !important;\n",
       "  stroke-width: 0;\n",
       "  stroke: currentColor;\n",
       "  fill: currentColor;\n",
       "}\n",
       "</style><pre class='xr-text-repr-fallback'>&lt;xarray.Dataset&gt;\n",
       "Dimensions:  (lat: 180, lon: 360, time: 780)\n",
       "Coordinates:\n",
       "  * time     (time) datetime64[ns] 1950-01-31 1950-02-28 ... 2014-12-31\n",
       "    height   float64 2.0\n",
       "  * lon      (lon) float64 0.5 1.5 2.5 3.5 4.5 ... 355.5 356.5 357.5 358.5 359.5\n",
       "  * lat      (lat) float64 -89.5 -88.5 -87.5 -86.5 -85.5 ... 86.5 87.5 88.5 89.5\n",
       "Data variables:\n",
       "    CDD      (time, lat, lon) float64 dask.array&lt;chunksize=(1, 180, 360), meta=np.ndarray&gt;\n",
       "    HDD      (time, lat, lon) float64 dask.array&lt;chunksize=(1, 180, 360), meta=np.ndarray&gt;</pre><div class='xr-wrap' hidden><div class='xr-header'><div class='xr-obj-type'>xarray.Dataset</div></div><ul class='xr-sections'><li class='xr-section-item'><input id='section-0b77cadb-89cc-4235-936f-dbe47ce24e54' class='xr-section-summary-in' type='checkbox' disabled ><label for='section-0b77cadb-89cc-4235-936f-dbe47ce24e54' class='xr-section-summary'  title='Expand/collapse section'>Dimensions:</label><div class='xr-section-inline-details'><ul class='xr-dim-list'><li><span class='xr-has-index'>lat</span>: 180</li><li><span class='xr-has-index'>lon</span>: 360</li><li><span class='xr-has-index'>time</span>: 780</li></ul></div><div class='xr-section-details'></div></li><li class='xr-section-item'><input id='section-02570d73-0cb7-4e32-bb83-692b0a4d6444' class='xr-section-summary-in' type='checkbox'  checked><label for='section-02570d73-0cb7-4e32-bb83-692b0a4d6444' class='xr-section-summary' >Coordinates: <span>(4)</span></label><div class='xr-section-inline-details'></div><div class='xr-section-details'><ul class='xr-var-list'><li class='xr-var-item'><div class='xr-var-name'><span class='xr-has-index'>time</span></div><div class='xr-var-dims'>(time)</div><div class='xr-var-dtype'>datetime64[ns]</div><div class='xr-var-preview xr-preview'>1950-01-31 ... 2014-12-31</div><input id='attrs-f96821b4-bd7d-4478-bf8a-ffb8cec6559f' class='xr-var-attrs-in' type='checkbox' disabled><label for='attrs-f96821b4-bd7d-4478-bf8a-ffb8cec6559f' title='Show/Hide attributes'><svg class='icon xr-icon-file-text2'><use xlink:href='#icon-file-text2'></use></svg></label><input id='data-08b32414-ea9a-4172-82b8-48cc112d7e23' class='xr-var-data-in' type='checkbox'><label for='data-08b32414-ea9a-4172-82b8-48cc112d7e23' title='Show/Hide data repr'><svg class='icon xr-icon-database'><use xlink:href='#icon-database'></use></svg></label><div class='xr-var-attrs'><dl class='xr-attrs'></dl></div><div class='xr-var-data'><pre>array([&#x27;1950-01-31T00:00:00.000000000&#x27;, &#x27;1950-02-28T00:00:00.000000000&#x27;,\n",
       "       &#x27;1950-03-31T00:00:00.000000000&#x27;, ..., &#x27;2014-10-31T00:00:00.000000000&#x27;,\n",
       "       &#x27;2014-11-30T00:00:00.000000000&#x27;, &#x27;2014-12-31T00:00:00.000000000&#x27;],\n",
       "      dtype=&#x27;datetime64[ns]&#x27;)</pre></div></li><li class='xr-var-item'><div class='xr-var-name'><span>height</span></div><div class='xr-var-dims'>()</div><div class='xr-var-dtype'>float64</div><div class='xr-var-preview xr-preview'>2.0</div><input id='attrs-c15cbf70-f1fc-4eb6-bdfa-d70dbedf5746' class='xr-var-attrs-in' type='checkbox' ><label for='attrs-c15cbf70-f1fc-4eb6-bdfa-d70dbedf5746' title='Show/Hide attributes'><svg class='icon xr-icon-file-text2'><use xlink:href='#icon-file-text2'></use></svg></label><input id='data-d6f77894-3341-4d64-9928-0e1af95cdb26' class='xr-var-data-in' type='checkbox'><label for='data-d6f77894-3341-4d64-9928-0e1af95cdb26' title='Show/Hide data repr'><svg class='icon xr-icon-database'><use xlink:href='#icon-database'></use></svg></label><div class='xr-var-attrs'><dl class='xr-attrs'><dt><span>axis :</span></dt><dd>Z</dd><dt><span>long_name :</span></dt><dd>height</dd><dt><span>positive :</span></dt><dd>up</dd><dt><span>standard_name :</span></dt><dd>height</dd><dt><span>units :</span></dt><dd>m</dd></dl></div><div class='xr-var-data'><pre>array(2.)</pre></div></li><li class='xr-var-item'><div class='xr-var-name'><span class='xr-has-index'>lon</span></div><div class='xr-var-dims'>(lon)</div><div class='xr-var-dtype'>float64</div><div class='xr-var-preview xr-preview'>0.5 1.5 2.5 ... 357.5 358.5 359.5</div><input id='attrs-50ee71ef-8355-4b5e-b1a8-5bfe2987d485' class='xr-var-attrs-in' type='checkbox' disabled><label for='attrs-50ee71ef-8355-4b5e-b1a8-5bfe2987d485' title='Show/Hide attributes'><svg class='icon xr-icon-file-text2'><use xlink:href='#icon-file-text2'></use></svg></label><input id='data-82035a3c-141d-4f7e-9424-89b7d9339c5e' class='xr-var-data-in' type='checkbox'><label for='data-82035a3c-141d-4f7e-9424-89b7d9339c5e' title='Show/Hide data repr'><svg class='icon xr-icon-database'><use xlink:href='#icon-database'></use></svg></label><div class='xr-var-attrs'><dl class='xr-attrs'></dl></div><div class='xr-var-data'><pre>array([  0.5,   1.5,   2.5, ..., 357.5, 358.5, 359.5])</pre></div></li><li class='xr-var-item'><div class='xr-var-name'><span class='xr-has-index'>lat</span></div><div class='xr-var-dims'>(lat)</div><div class='xr-var-dtype'>float64</div><div class='xr-var-preview xr-preview'>-89.5 -88.5 -87.5 ... 88.5 89.5</div><input id='attrs-5a98fc2b-4577-4859-93e7-5130bace5bfc' class='xr-var-attrs-in' type='checkbox' disabled><label for='attrs-5a98fc2b-4577-4859-93e7-5130bace5bfc' title='Show/Hide attributes'><svg class='icon xr-icon-file-text2'><use xlink:href='#icon-file-text2'></use></svg></label><input id='data-b760bc2d-2868-4f82-862d-ca49cd3739fa' class='xr-var-data-in' type='checkbox'><label for='data-b760bc2d-2868-4f82-862d-ca49cd3739fa' title='Show/Hide data repr'><svg class='icon xr-icon-database'><use xlink:href='#icon-database'></use></svg></label><div class='xr-var-attrs'><dl class='xr-attrs'></dl></div><div class='xr-var-data'><pre>array([-89.5, -88.5, -87.5, -86.5, -85.5, -84.5, -83.5, -82.5, -81.5, -80.5,\n",
       "       -79.5, -78.5, -77.5, -76.5, -75.5, -74.5, -73.5, -72.5, -71.5, -70.5,\n",
       "       -69.5, -68.5, -67.5, -66.5, -65.5, -64.5, -63.5, -62.5, -61.5, -60.5,\n",
       "       -59.5, -58.5, -57.5, -56.5, -55.5, -54.5, -53.5, -52.5, -51.5, -50.5,\n",
       "       -49.5, -48.5, -47.5, -46.5, -45.5, -44.5, -43.5, -42.5, -41.5, -40.5,\n",
       "       -39.5, -38.5, -37.5, -36.5, -35.5, -34.5, -33.5, -32.5, -31.5, -30.5,\n",
       "       -29.5, -28.5, -27.5, -26.5, -25.5, -24.5, -23.5, -22.5, -21.5, -20.5,\n",
       "       -19.5, -18.5, -17.5, -16.5, -15.5, -14.5, -13.5, -12.5, -11.5, -10.5,\n",
       "        -9.5,  -8.5,  -7.5,  -6.5,  -5.5,  -4.5,  -3.5,  -2.5,  -1.5,  -0.5,\n",
       "         0.5,   1.5,   2.5,   3.5,   4.5,   5.5,   6.5,   7.5,   8.5,   9.5,\n",
       "        10.5,  11.5,  12.5,  13.5,  14.5,  15.5,  16.5,  17.5,  18.5,  19.5,\n",
       "        20.5,  21.5,  22.5,  23.5,  24.5,  25.5,  26.5,  27.5,  28.5,  29.5,\n",
       "        30.5,  31.5,  32.5,  33.5,  34.5,  35.5,  36.5,  37.5,  38.5,  39.5,\n",
       "        40.5,  41.5,  42.5,  43.5,  44.5,  45.5,  46.5,  47.5,  48.5,  49.5,\n",
       "        50.5,  51.5,  52.5,  53.5,  54.5,  55.5,  56.5,  57.5,  58.5,  59.5,\n",
       "        60.5,  61.5,  62.5,  63.5,  64.5,  65.5,  66.5,  67.5,  68.5,  69.5,\n",
       "        70.5,  71.5,  72.5,  73.5,  74.5,  75.5,  76.5,  77.5,  78.5,  79.5,\n",
       "        80.5,  81.5,  82.5,  83.5,  84.5,  85.5,  86.5,  87.5,  88.5,  89.5])</pre></div></li></ul></div></li><li class='xr-section-item'><input id='section-3dfbdeb9-b5f3-4f1d-855b-f7af0f1cf9b4' class='xr-section-summary-in' type='checkbox'  checked><label for='section-3dfbdeb9-b5f3-4f1d-855b-f7af0f1cf9b4' class='xr-section-summary' >Data variables: <span>(2)</span></label><div class='xr-section-inline-details'></div><div class='xr-section-details'><ul class='xr-var-list'><li class='xr-var-item'><div class='xr-var-name'><span>CDD</span></div><div class='xr-var-dims'>(time, lat, lon)</div><div class='xr-var-dtype'>float64</div><div class='xr-var-preview xr-preview'>dask.array&lt;chunksize=(1, 180, 360), meta=np.ndarray&gt;</div><input id='attrs-3800f2e0-a805-4eb7-b984-d56d2063ddfd' class='xr-var-attrs-in' type='checkbox' disabled><label for='attrs-3800f2e0-a805-4eb7-b984-d56d2063ddfd' title='Show/Hide attributes'><svg class='icon xr-icon-file-text2'><use xlink:href='#icon-file-text2'></use></svg></label><input id='data-365c4ba4-7bfe-45fb-88b0-0ae77b01c837' class='xr-var-data-in' type='checkbox'><label for='data-365c4ba4-7bfe-45fb-88b0-0ae77b01c837' title='Show/Hide data repr'><svg class='icon xr-icon-database'><use xlink:href='#icon-database'></use></svg></label><div class='xr-var-attrs'><dl class='xr-attrs'></dl></div><div class='xr-var-data'><table>\n",
       "<tr>\n",
       "<td>\n",
       "<table>\n",
       "  <thead>\n",
       "    <tr><td> </td><th> Array </th><th> Chunk </th></tr>\n",
       "  </thead>\n",
       "  <tbody>\n",
       "    <tr><th> Bytes </th><td> 404.35 MB </td> <td> 518.40 kB </td></tr>\n",
       "    <tr><th> Shape </th><td> (780, 180, 360) </td> <td> (1, 180, 360) </td></tr>\n",
       "    <tr><th> Count </th><td> 90903 Tasks </td><td> 780 Chunks </td></tr>\n",
       "    <tr><th> Type </th><td> float64 </td><td> numpy.ndarray </td></tr>\n",
       "  </tbody>\n",
       "</table>\n",
       "</td>\n",
       "<td>\n",
       "<svg width=\"185\" height=\"163\" style=\"stroke:rgb(0,0,0);stroke-width:1\" >\n",
       "\n",
       "  <!-- Horizontal lines -->\n",
       "  <line x1=\"10\" y1=\"0\" x2=\"80\" y2=\"70\" style=\"stroke-width:2\" />\n",
       "  <line x1=\"10\" y1=\"42\" x2=\"80\" y2=\"113\" style=\"stroke-width:2\" />\n",
       "\n",
       "  <!-- Vertical lines -->\n",
       "  <line x1=\"10\" y1=\"0\" x2=\"10\" y2=\"42\" style=\"stroke-width:2\" />\n",
       "  <line x1=\"13\" y1=\"3\" x2=\"13\" y2=\"46\" />\n",
       "  <line x1=\"17\" y1=\"7\" x2=\"17\" y2=\"50\" />\n",
       "  <line x1=\"21\" y1=\"11\" x2=\"21\" y2=\"53\" />\n",
       "  <line x1=\"24\" y1=\"14\" x2=\"24\" y2=\"57\" />\n",
       "  <line x1=\"28\" y1=\"18\" x2=\"28\" y2=\"61\" />\n",
       "  <line x1=\"32\" y1=\"22\" x2=\"32\" y2=\"64\" />\n",
       "  <line x1=\"35\" y1=\"25\" x2=\"35\" y2=\"68\" />\n",
       "  <line x1=\"39\" y1=\"29\" x2=\"39\" y2=\"72\" />\n",
       "  <line x1=\"43\" y1=\"33\" x2=\"43\" y2=\"75\" />\n",
       "  <line x1=\"47\" y1=\"37\" x2=\"47\" y2=\"79\" />\n",
       "  <line x1=\"50\" y1=\"40\" x2=\"50\" y2=\"83\" />\n",
       "  <line x1=\"54\" y1=\"44\" x2=\"54\" y2=\"87\" />\n",
       "  <line x1=\"58\" y1=\"48\" x2=\"58\" y2=\"90\" />\n",
       "  <line x1=\"61\" y1=\"51\" x2=\"61\" y2=\"94\" />\n",
       "  <line x1=\"65\" y1=\"55\" x2=\"65\" y2=\"98\" />\n",
       "  <line x1=\"69\" y1=\"59\" x2=\"69\" y2=\"101\" />\n",
       "  <line x1=\"73\" y1=\"63\" x2=\"73\" y2=\"105\" />\n",
       "  <line x1=\"76\" y1=\"66\" x2=\"76\" y2=\"109\" />\n",
       "  <line x1=\"80\" y1=\"70\" x2=\"80\" y2=\"113\" style=\"stroke-width:2\" />\n",
       "\n",
       "  <!-- Colored Rectangle -->\n",
       "  <polygon points=\"10.0,0.0 80.58823529411765,70.58823529411765 80.58823529411765,113.18065503597012 10.0,42.59241974185246\" style=\"fill:#8B4903A0;stroke-width:0\"/>\n",
       "\n",
       "  <!-- Horizontal lines -->\n",
       "  <line x1=\"10\" y1=\"0\" x2=\"65\" y2=\"0\" style=\"stroke-width:2\" />\n",
       "  <line x1=\"13\" y1=\"3\" x2=\"69\" y2=\"3\" />\n",
       "  <line x1=\"17\" y1=\"7\" x2=\"72\" y2=\"7\" />\n",
       "  <line x1=\"21\" y1=\"11\" x2=\"76\" y2=\"11\" />\n",
       "  <line x1=\"24\" y1=\"14\" x2=\"80\" y2=\"14\" />\n",
       "  <line x1=\"28\" y1=\"18\" x2=\"83\" y2=\"18\" />\n",
       "  <line x1=\"32\" y1=\"22\" x2=\"87\" y2=\"22\" />\n",
       "  <line x1=\"35\" y1=\"25\" x2=\"91\" y2=\"25\" />\n",
       "  <line x1=\"39\" y1=\"29\" x2=\"95\" y2=\"29\" />\n",
       "  <line x1=\"43\" y1=\"33\" x2=\"98\" y2=\"33\" />\n",
       "  <line x1=\"47\" y1=\"37\" x2=\"102\" y2=\"37\" />\n",
       "  <line x1=\"50\" y1=\"40\" x2=\"106\" y2=\"40\" />\n",
       "  <line x1=\"54\" y1=\"44\" x2=\"109\" y2=\"44\" />\n",
       "  <line x1=\"58\" y1=\"48\" x2=\"113\" y2=\"48\" />\n",
       "  <line x1=\"61\" y1=\"51\" x2=\"117\" y2=\"51\" />\n",
       "  <line x1=\"65\" y1=\"55\" x2=\"121\" y2=\"55\" />\n",
       "  <line x1=\"69\" y1=\"59\" x2=\"124\" y2=\"59\" />\n",
       "  <line x1=\"73\" y1=\"63\" x2=\"128\" y2=\"63\" />\n",
       "  <line x1=\"76\" y1=\"66\" x2=\"132\" y2=\"66\" />\n",
       "  <line x1=\"80\" y1=\"70\" x2=\"135\" y2=\"70\" style=\"stroke-width:2\" />\n",
       "\n",
       "  <!-- Vertical lines -->\n",
       "  <line x1=\"10\" y1=\"0\" x2=\"80\" y2=\"70\" style=\"stroke-width:2\" />\n",
       "  <line x1=\"65\" y1=\"0\" x2=\"135\" y2=\"70\" style=\"stroke-width:2\" />\n",
       "\n",
       "  <!-- Colored Rectangle -->\n",
       "  <polygon points=\"10.0,0.0 65.38461538461539,0.0 135.97285067873304,70.58823529411765 80.58823529411765,70.58823529411765\" style=\"fill:#8B4903A0;stroke-width:0\"/>\n",
       "\n",
       "  <!-- Horizontal lines -->\n",
       "  <line x1=\"80\" y1=\"70\" x2=\"135\" y2=\"70\" style=\"stroke-width:2\" />\n",
       "  <line x1=\"80\" y1=\"113\" x2=\"135\" y2=\"113\" style=\"stroke-width:2\" />\n",
       "\n",
       "  <!-- Vertical lines -->\n",
       "  <line x1=\"80\" y1=\"70\" x2=\"80\" y2=\"113\" style=\"stroke-width:2\" />\n",
       "  <line x1=\"135\" y1=\"70\" x2=\"135\" y2=\"113\" style=\"stroke-width:2\" />\n",
       "\n",
       "  <!-- Colored Rectangle -->\n",
       "  <polygon points=\"80.58823529411765,70.58823529411765 135.97285067873304,70.58823529411765 135.97285067873304,113.18065503597012 80.58823529411765,113.18065503597012\" style=\"fill:#ECB172A0;stroke-width:0\"/>\n",
       "\n",
       "  <!-- Text -->\n",
       "  <text x=\"108.280543\" y=\"133.180655\" font-size=\"1.0rem\" font-weight=\"100\" text-anchor=\"middle\" >360</text>\n",
       "  <text x=\"155.972851\" y=\"91.884445\" font-size=\"1.0rem\" font-weight=\"100\" text-anchor=\"middle\" transform=\"rotate(-90,155.972851,91.884445)\">180</text>\n",
       "  <text x=\"35.294118\" y=\"97.886537\" font-size=\"1.0rem\" font-weight=\"100\" text-anchor=\"middle\" transform=\"rotate(45,35.294118,97.886537)\">780</text>\n",
       "</svg>\n",
       "</td>\n",
       "</tr>\n",
       "</table></div></li><li class='xr-var-item'><div class='xr-var-name'><span>HDD</span></div><div class='xr-var-dims'>(time, lat, lon)</div><div class='xr-var-dtype'>float64</div><div class='xr-var-preview xr-preview'>dask.array&lt;chunksize=(1, 180, 360), meta=np.ndarray&gt;</div><input id='attrs-2f20eef6-c275-48a5-9302-e7eea53cb7f2' class='xr-var-attrs-in' type='checkbox' disabled><label for='attrs-2f20eef6-c275-48a5-9302-e7eea53cb7f2' title='Show/Hide attributes'><svg class='icon xr-icon-file-text2'><use xlink:href='#icon-file-text2'></use></svg></label><input id='data-b77f0bb6-1516-4fb4-8d7f-c9b949263c2c' class='xr-var-data-in' type='checkbox'><label for='data-b77f0bb6-1516-4fb4-8d7f-c9b949263c2c' title='Show/Hide data repr'><svg class='icon xr-icon-database'><use xlink:href='#icon-database'></use></svg></label><div class='xr-var-attrs'><dl class='xr-attrs'></dl></div><div class='xr-var-data'><table>\n",
       "<tr>\n",
       "<td>\n",
       "<table>\n",
       "  <thead>\n",
       "    <tr><td> </td><th> Array </th><th> Chunk </th></tr>\n",
       "  </thead>\n",
       "  <tbody>\n",
       "    <tr><th> Bytes </th><td> 404.35 MB </td> <td> 518.40 kB </td></tr>\n",
       "    <tr><th> Shape </th><td> (780, 180, 360) </td> <td> (1, 180, 360) </td></tr>\n",
       "    <tr><th> Count </th><td> 90903 Tasks </td><td> 780 Chunks </td></tr>\n",
       "    <tr><th> Type </th><td> float64 </td><td> numpy.ndarray </td></tr>\n",
       "  </tbody>\n",
       "</table>\n",
       "</td>\n",
       "<td>\n",
       "<svg width=\"185\" height=\"163\" style=\"stroke:rgb(0,0,0);stroke-width:1\" >\n",
       "\n",
       "  <!-- Horizontal lines -->\n",
       "  <line x1=\"10\" y1=\"0\" x2=\"80\" y2=\"70\" style=\"stroke-width:2\" />\n",
       "  <line x1=\"10\" y1=\"42\" x2=\"80\" y2=\"113\" style=\"stroke-width:2\" />\n",
       "\n",
       "  <!-- Vertical lines -->\n",
       "  <line x1=\"10\" y1=\"0\" x2=\"10\" y2=\"42\" style=\"stroke-width:2\" />\n",
       "  <line x1=\"13\" y1=\"3\" x2=\"13\" y2=\"46\" />\n",
       "  <line x1=\"17\" y1=\"7\" x2=\"17\" y2=\"50\" />\n",
       "  <line x1=\"21\" y1=\"11\" x2=\"21\" y2=\"53\" />\n",
       "  <line x1=\"24\" y1=\"14\" x2=\"24\" y2=\"57\" />\n",
       "  <line x1=\"28\" y1=\"18\" x2=\"28\" y2=\"61\" />\n",
       "  <line x1=\"32\" y1=\"22\" x2=\"32\" y2=\"64\" />\n",
       "  <line x1=\"35\" y1=\"25\" x2=\"35\" y2=\"68\" />\n",
       "  <line x1=\"39\" y1=\"29\" x2=\"39\" y2=\"72\" />\n",
       "  <line x1=\"43\" y1=\"33\" x2=\"43\" y2=\"75\" />\n",
       "  <line x1=\"47\" y1=\"37\" x2=\"47\" y2=\"79\" />\n",
       "  <line x1=\"50\" y1=\"40\" x2=\"50\" y2=\"83\" />\n",
       "  <line x1=\"54\" y1=\"44\" x2=\"54\" y2=\"87\" />\n",
       "  <line x1=\"58\" y1=\"48\" x2=\"58\" y2=\"90\" />\n",
       "  <line x1=\"61\" y1=\"51\" x2=\"61\" y2=\"94\" />\n",
       "  <line x1=\"65\" y1=\"55\" x2=\"65\" y2=\"98\" />\n",
       "  <line x1=\"69\" y1=\"59\" x2=\"69\" y2=\"101\" />\n",
       "  <line x1=\"73\" y1=\"63\" x2=\"73\" y2=\"105\" />\n",
       "  <line x1=\"76\" y1=\"66\" x2=\"76\" y2=\"109\" />\n",
       "  <line x1=\"80\" y1=\"70\" x2=\"80\" y2=\"113\" style=\"stroke-width:2\" />\n",
       "\n",
       "  <!-- Colored Rectangle -->\n",
       "  <polygon points=\"10.0,0.0 80.58823529411765,70.58823529411765 80.58823529411765,113.18065503597012 10.0,42.59241974185246\" style=\"fill:#8B4903A0;stroke-width:0\"/>\n",
       "\n",
       "  <!-- Horizontal lines -->\n",
       "  <line x1=\"10\" y1=\"0\" x2=\"65\" y2=\"0\" style=\"stroke-width:2\" />\n",
       "  <line x1=\"13\" y1=\"3\" x2=\"69\" y2=\"3\" />\n",
       "  <line x1=\"17\" y1=\"7\" x2=\"72\" y2=\"7\" />\n",
       "  <line x1=\"21\" y1=\"11\" x2=\"76\" y2=\"11\" />\n",
       "  <line x1=\"24\" y1=\"14\" x2=\"80\" y2=\"14\" />\n",
       "  <line x1=\"28\" y1=\"18\" x2=\"83\" y2=\"18\" />\n",
       "  <line x1=\"32\" y1=\"22\" x2=\"87\" y2=\"22\" />\n",
       "  <line x1=\"35\" y1=\"25\" x2=\"91\" y2=\"25\" />\n",
       "  <line x1=\"39\" y1=\"29\" x2=\"95\" y2=\"29\" />\n",
       "  <line x1=\"43\" y1=\"33\" x2=\"98\" y2=\"33\" />\n",
       "  <line x1=\"47\" y1=\"37\" x2=\"102\" y2=\"37\" />\n",
       "  <line x1=\"50\" y1=\"40\" x2=\"106\" y2=\"40\" />\n",
       "  <line x1=\"54\" y1=\"44\" x2=\"109\" y2=\"44\" />\n",
       "  <line x1=\"58\" y1=\"48\" x2=\"113\" y2=\"48\" />\n",
       "  <line x1=\"61\" y1=\"51\" x2=\"117\" y2=\"51\" />\n",
       "  <line x1=\"65\" y1=\"55\" x2=\"121\" y2=\"55\" />\n",
       "  <line x1=\"69\" y1=\"59\" x2=\"124\" y2=\"59\" />\n",
       "  <line x1=\"73\" y1=\"63\" x2=\"128\" y2=\"63\" />\n",
       "  <line x1=\"76\" y1=\"66\" x2=\"132\" y2=\"66\" />\n",
       "  <line x1=\"80\" y1=\"70\" x2=\"135\" y2=\"70\" style=\"stroke-width:2\" />\n",
       "\n",
       "  <!-- Vertical lines -->\n",
       "  <line x1=\"10\" y1=\"0\" x2=\"80\" y2=\"70\" style=\"stroke-width:2\" />\n",
       "  <line x1=\"65\" y1=\"0\" x2=\"135\" y2=\"70\" style=\"stroke-width:2\" />\n",
       "\n",
       "  <!-- Colored Rectangle -->\n",
       "  <polygon points=\"10.0,0.0 65.38461538461539,0.0 135.97285067873304,70.58823529411765 80.58823529411765,70.58823529411765\" style=\"fill:#8B4903A0;stroke-width:0\"/>\n",
       "\n",
       "  <!-- Horizontal lines -->\n",
       "  <line x1=\"80\" y1=\"70\" x2=\"135\" y2=\"70\" style=\"stroke-width:2\" />\n",
       "  <line x1=\"80\" y1=\"113\" x2=\"135\" y2=\"113\" style=\"stroke-width:2\" />\n",
       "\n",
       "  <!-- Vertical lines -->\n",
       "  <line x1=\"80\" y1=\"70\" x2=\"80\" y2=\"113\" style=\"stroke-width:2\" />\n",
       "  <line x1=\"135\" y1=\"70\" x2=\"135\" y2=\"113\" style=\"stroke-width:2\" />\n",
       "\n",
       "  <!-- Colored Rectangle -->\n",
       "  <polygon points=\"80.58823529411765,70.58823529411765 135.97285067873304,70.58823529411765 135.97285067873304,113.18065503597012 80.58823529411765,113.18065503597012\" style=\"fill:#ECB172A0;stroke-width:0\"/>\n",
       "\n",
       "  <!-- Text -->\n",
       "  <text x=\"108.280543\" y=\"133.180655\" font-size=\"1.0rem\" font-weight=\"100\" text-anchor=\"middle\" >360</text>\n",
       "  <text x=\"155.972851\" y=\"91.884445\" font-size=\"1.0rem\" font-weight=\"100\" text-anchor=\"middle\" transform=\"rotate(-90,155.972851,91.884445)\">180</text>\n",
       "  <text x=\"35.294118\" y=\"97.886537\" font-size=\"1.0rem\" font-weight=\"100\" text-anchor=\"middle\" transform=\"rotate(45,35.294118,97.886537)\">780</text>\n",
       "</svg>\n",
       "</td>\n",
       "</tr>\n",
       "</table></div></li></ul></div></li><li class='xr-section-item'><input id='section-e13b9fde-0b24-42de-84f1-355cc14050db' class='xr-section-summary-in' type='checkbox' disabled ><label for='section-e13b9fde-0b24-42de-84f1-355cc14050db' class='xr-section-summary'  title='Expand/collapse section'>Attributes: <span>(0)</span></label><div class='xr-section-inline-details'></div><div class='xr-section-details'><dl class='xr-attrs'></dl></div></li></ul></div></div>"
      ],
      "text/plain": [
       "<xarray.Dataset>\n",
       "Dimensions:  (lat: 180, lon: 360, time: 780)\n",
       "Coordinates:\n",
       "  * time     (time) datetime64[ns] 1950-01-31 1950-02-28 ... 2014-12-31\n",
       "    height   float64 2.0\n",
       "  * lon      (lon) float64 0.5 1.5 2.5 3.5 4.5 ... 355.5 356.5 357.5 358.5 359.5\n",
       "  * lat      (lat) float64 -89.5 -88.5 -87.5 -86.5 -85.5 ... 86.5 87.5 88.5 89.5\n",
       "Data variables:\n",
       "    CDD      (time, lat, lon) float64 dask.array<chunksize=(1, 180, 360), meta=np.ndarray>\n",
       "    HDD      (time, lat, lon) float64 dask.array<chunksize=(1, 180, 360), meta=np.ndarray>"
      ]
     },
     "execution_count": 13,
     "metadata": {},
     "output_type": "execute_result"
    }
   ],
   "source": [
    "ds_his_output['CDD'] = xr.where(((ds_his_output.tas_mean - 273.15) * 9/5 + 32) > 65, ((ds_his_output.tas_mean - 273.15) * 9/5 + 32) - 65, 0)\n",
    "ds_his_output['HDD'] = xr.where(((ds_his_output.tas_mean - 273.15) * 9/5 + 32) < 65, 65 - ((ds_his_output.tas_mean - 273.15) * 9/5 + 32), 0)\n",
    "\n",
    "ds_his_output_monthly = ds_his_output.resample(time = 'M').sum(dim = 'time')[['CDD', 'HDD']]\n",
    "ds_his_output_monthly"
   ]
  },
  {
   "cell_type": "code",
   "execution_count": null,
   "metadata": {},
   "outputs": [],
   "source": [
    "ds_his_output"
   ]
  },
  {
   "cell_type": "markdown",
   "metadata": {},
   "source": [
    "### Output netcdf file"
   ]
  },
  {
   "cell_type": "code",
   "execution_count": null,
   "metadata": {},
   "outputs": [],
   "source": [
    "ds_his_output_monthly.to_netcdf('historical_monthly.nc')"
   ]
  },
  {
   "cell_type": "code",
   "execution_count": null,
   "metadata": {},
   "outputs": [],
   "source": [
    "!aws s3 cp historical_monthly.nc s3://aer-astd-mcclim/historical/historical_monthly.nc"
   ]
  },
  {
   "cell_type": "code",
   "execution_count": null,
   "metadata": {},
   "outputs": [],
   "source": []
  },
  {
   "cell_type": "markdown",
   "metadata": {},
   "source": [
    "### Verify the result"
   ]
  },
  {
   "cell_type": "code",
   "execution_count": 24,
   "metadata": {},
   "outputs": [
    {
     "data": {
      "text/plain": [
       "294.3251075744629"
      ]
     },
     "execution_count": 24,
     "metadata": {},
     "output_type": "execute_result"
    }
   ],
   "source": [
    "t = 0\n",
    "n = 0\n",
    "for i in range(0, 25):\n",
    "    if i not in [22]:\n",
    "        t += ds_his_dictonary[i].sel(time = '1988-04-22', lon = 215.5, lat = 21.5).tas.values\n",
    "        n += 1\n",
    "t/n"
   ]
  },
  {
   "cell_type": "code",
   "execution_count": 26,
   "metadata": {},
   "outputs": [],
   "source": [
    "ds_daily = xr.open_dataset(\"historical_daily.nc\")\n",
    "ds_monthly = xr.open_dataset(\"historical_monthly.nc\")"
   ]
  },
  {
   "cell_type": "code",
   "execution_count": 27,
   "metadata": {},
   "outputs": [
    {
     "data": {
      "text/plain": [
       "array(294.32510757)"
      ]
     },
     "execution_count": 27,
     "metadata": {},
     "output_type": "execute_result"
    }
   ],
   "source": [
    "ds_daily.sel(time = '1988-04-22', lon = 215.5, lat = 21.5).tas_mean.values"
   ]
  },
  {
   "cell_type": "code",
   "execution_count": null,
   "metadata": {},
   "outputs": [],
   "source": []
  },
  {
   "cell_type": "code",
   "execution_count": 60,
   "metadata": {},
   "outputs": [],
   "source": [
    "ds = ds_daily.sel(time = '1952-12', lon = 111.5, lat = 21.5)"
   ]
  },
  {
   "cell_type": "code",
   "execution_count": 61,
   "metadata": {},
   "outputs": [],
   "source": [
    "ds['HDD'] = xr.where(((ds.tas_mean - 273.15) * 9/5 + 32) < 65, 65 - ((ds.tas_mean - 273.15) * 9/5 + 32), 0)\n",
    "ds['CDD'] = xr.where(((ds.tas_mean - 273.15) * 9/5 + 32) > 65, ((ds.tas_mean - 273.15) * 9/5 + 32) - 65, 0)"
   ]
  },
  {
   "cell_type": "code",
   "execution_count": 62,
   "metadata": {},
   "outputs": [
    {
     "name": "stdout",
     "output_type": "stream",
     "text": [
      "CDD:  13.158066101074752\n",
      "HDD:  41.9712652587883\n"
     ]
    }
   ],
   "source": [
    "print('CDD: ', ds.CDD.values.sum())\n",
    "print('HDD: ', ds.HDD.values.sum())"
   ]
  },
  {
   "cell_type": "code",
   "execution_count": 63,
   "metadata": {
    "scrolled": true
   },
   "outputs": [
    {
     "name": "stdout",
     "output_type": "stream",
     "text": [
      "CDD:  [13.1580661]\n",
      "HDD:  [41.97126526]\n"
     ]
    }
   ],
   "source": [
    "d = ds_monthly.sel(time = '1952-12', lon = 111.5, lat = 21.5)\n",
    "print('CDD: ', d.CDD.values)\n",
    "print('HDD: ', d.HDD.values)"
   ]
  },
  {
   "cell_type": "code",
   "execution_count": null,
   "metadata": {},
   "outputs": [],
   "source": []
  },
  {
   "cell_type": "code",
   "execution_count": null,
   "metadata": {},
   "outputs": [],
   "source": []
  }
 ],
 "metadata": {
  "kernelspec": {
   "display_name": "Python 3",
   "language": "python",
   "name": "python3"
  },
  "language_info": {
   "codemirror_mode": {
    "name": "ipython",
    "version": 3
   },
   "file_extension": ".py",
   "mimetype": "text/x-python",
   "name": "python",
   "nbconvert_exporter": "python",
   "pygments_lexer": "ipython3",
   "version": "3.6.10"
  }
 },
 "nbformat": 4,
 "nbformat_minor": 4
}
